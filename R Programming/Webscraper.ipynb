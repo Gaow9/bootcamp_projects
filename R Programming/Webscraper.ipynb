{
 "cells":[
  {
   "cell_type":"markdown",
   "source":[
    "# IMDB"
   ],
   "attachments":{
    
   },
   "metadata":{
    "datalore":{
     "node_id":"IMDB",
     "type":"MD",
     "hide_input_from_viewers":false,
     "hide_output_from_viewers":false,
     "sheet_delimiter":true
    }
   }
  },
  {
   "cell_type":"code",
   "source":[
    "library (tidyverse)\n",
    "library (rvest) ## Srape data from IoT  "
   ],
   "execution_count":1,
   "outputs":[
    {
     "name":"stderr",
     "text":[
      "Warning message in system(\"timedatectl\", intern = TRUE):\n",
      "“running command 'timedatectl' had status 1”\n",
      "Warning message:\n",
      "“Failed to locate timezone database”\n",
      "── \u001b[1mAttaching packages\u001b[22m ─────────────────────────────────────── tidyverse 1.3.1 ──\n",
      "\n",
      "\u001b[32m✔\u001b[39m \u001b[34mggplot2\u001b[39m 3.3.5     \u001b[32m✔\u001b[39m \u001b[34mpurrr  \u001b[39m 0.3.4\n",
      "\u001b[32m✔\u001b[39m \u001b[34mtibble \u001b[39m 3.1.5     \u001b[32m✔\u001b[39m \u001b[34mdplyr  \u001b[39m 1.0.7\n",
      "\u001b[32m✔\u001b[39m \u001b[34mtidyr  \u001b[39m 1.1.4     \u001b[32m✔\u001b[39m \u001b[34mstringr\u001b[39m 1.4.0\n",
      "\u001b[32m✔\u001b[39m \u001b[34mreadr  \u001b[39m 2.0.2     \u001b[32m✔\u001b[39m \u001b[34mforcats\u001b[39m 0.5.1\n",
      "\n",
      "── \u001b[1mConflicts\u001b[22m ────────────────────────────────────────── tidyverse_conflicts() ──\n",
      "\u001b[31m✖\u001b[39m \u001b[34mdplyr\u001b[39m::\u001b[32mfilter()\u001b[39m  masks \u001b[34mstats\u001b[39m::filter()\n",
      "\u001b[31m✖\u001b[39m \u001b[34mpurrr\u001b[39m::\u001b[32mflatten()\u001b[39m masks \u001b[34mjsonlite\u001b[39m::flatten()\n",
      "\u001b[31m✖\u001b[39m \u001b[34mdplyr\u001b[39m::\u001b[32mlag()\u001b[39m     masks \u001b[34mstats\u001b[39m::lag()\n",
      "\n",
      "\n",
      "Attaching package: ‘rvest’\n",
      "\n",
      "\n",
      "The following object is masked from ‘package:readr’:\n",
      "\n",
      "    guess_encoding\n",
      "\n",
      "\n"
     ],
     "output_type":"stream"
    }
   ],
   "metadata":{
    "datalore":{
     "node_id":"lfBA4YbjEoLsTSbBtYdxMe",
     "type":"CODE",
     "hide_input_from_viewers":false,
     "hide_output_from_viewers":false
    }
   }
  },
  {
   "cell_type":"code",
   "source":[
    "# Import URL\n",
    "url <- \"https:\/\/www.imdb.com\/search\/title\/?groups=top_100&sort=user_rating,desc\"\n",
    "print(url)"
   ],
   "execution_count":3,
   "outputs":[
    {
     "name":"stdout",
     "text":[
      "[1] \"https:\/\/www.imdb.com\/search\/title\/?groups=top_100&sort=user_rating,desc\"\n"
     ],
     "output_type":"stream"
    }
   ],
   "metadata":{
    "datalore":{
     "node_id":"fZopfQU3Uw19p1eivFk7MS",
     "type":"CODE",
     "hide_input_from_viewers":false,
     "hide_output_from_viewers":false
    }
   }
  },
  {
   "cell_type":"code",
   "source":[
    "## Read HTML\n",
    "imdb <- read_html(url)"
   ],
   "execution_count":4,
   "outputs":[
    
   ],
   "metadata":{
    "datalore":{
     "node_id":"zWoCR0XiyVuXgbnhL82ngC",
     "type":"CODE",
     "hide_input_from_viewers":false,
     "hide_output_from_viewers":false
    }
   }
  },
  {
   "cell_type":"code",
   "source":[
    "imdb"
   ],
   "execution_count":5,
   "outputs":[
    {
     "data":{
      "text\/plain":[
       "{html_document}\n",
       "<html xmlns:og=\"http:\/\/ogp.me\/ns#\" xmlns:fb=\"http:\/\/www.facebook.com\/2008\/fbml\">\n",
       "[1] <head>\\n<meta http-equiv=\"Content-Type\" content=\"text\/html; charset=UTF-8 ...\n",
       "[2] <body id=\"styleguide-v2\" class=\"fixed\">\\n            <img height=\"1\" widt ..."
      ]
     },
     "metadata":{
      
     },
     "output_type":"display_data"
    }
   ],
   "metadata":{
    "datalore":{
     "node_id":"73XstW1hKKILKt5CX3roPo",
     "type":"CODE",
     "hide_input_from_viewers":false,
     "hide_output_from_viewers":false
    }
   }
  },
  {
   "cell_type":"code",
   "source":[
    "## Movie Title\n",
    "titles <- imdb %>%\n",
    "   html_nodes(\"h3.lister-item-header\")  %>% ## html_node จะเอาแค่ตัวแรกที่เจอ ถ้ามี s จะเอามาหมด\n",
    "   html_text2() ## Text เฉยๆจะมี Character พิเศษด้วย "
   ],
   "execution_count":6,
   "outputs":[
    
   ],
   "metadata":{
    "datalore":{
     "node_id":"1TpbhZ0xmP3tfymHcRWdc8",
     "type":"CODE",
     "hide_input_from_viewers":false,
     "hide_output_from_viewers":false
    }
   }
  },
  {
   "cell_type":"code",
   "source":[
    "## Rating\n",
    "ratings <- imdb %>%\n",
    "    html_node(\"div.ratings-imdb-rating\") %>%\n",
    "    html_text2() %>%    \n",
    "    as.numeric()"
   ],
   "execution_count":7,
   "outputs":[
    
   ],
   "metadata":{
    "datalore":{
     "node_id":"Kn7Qd628K5fWLn03Es7AE0",
     "type":"CODE",
     "hide_input_from_viewers":false,
     "hide_output_from_viewers":false
    }
   }
  },
  {
   "cell_type":"code",
   "source":[
    "# Number of votes\n",
    "num_votes <- imdb %>% \n",
    "    html_nodes(\"p.sort-num_votes-visible\") %>%\n",
    "    html_text2()\n",
    "print(head(num_votes))"
   ],
   "execution_count":10,
   "outputs":[
    {
     "name":"stdout",
     "text":[
      "[1] \"Votes: 2,692,081 | Gross: $28.34M | Top 250: #1\" \n",
      "[2] \"Votes: 1,867,764 | Gross: $134.97M | Top 250: #2\"\n",
      "[3] \"Votes: 2,665,841 | Gross: $534.86M | Top 250: #3\"\n",
      "[4] \"Votes: 1,361,479 | Gross: $96.90M | Top 250: #6\" \n",
      "[5] \"Votes: 1,277,274 | Gross: $57.30M | Top 250: #4\" \n",
      "[6] \"Votes: 795,361 | Gross: $4.36M | Top 250: #5\"    \n"
     ],
     "output_type":"stream"
    }
   ],
   "metadata":{
    "datalore":{
     "node_id":"NljnTBaMTIye3lbjKeK2az",
     "type":"CODE",
     "hide_input_from_viewers":false,
     "hide_output_from_viewers":false
    }
   }
  },
  {
   "cell_type":"code",
   "source":[
    "# build a dataset\n",
    "df <- data.frame(\n",
    "    title = titles,\n",
    "    rating = ratings,\n",
    "    num_vote = num_votes\n",
    ")"
   ],
   "execution_count":11,
   "outputs":[
    
   ],
   "metadata":{
    "datalore":{
     "node_id":"CLw8JqoCDYseGNA8pL4W1X",
     "type":"CODE",
     "hide_input_from_viewers":false,
     "hide_output_from_viewers":false
    }
   }
  },
  {
   "cell_type":"code",
   "source":[
    "print(head(df),3)"
   ],
   "execution_count":12,
   "outputs":[
    {
     "name":"stdout",
     "text":[
      "                               title rating\n",
      "1 1. The Shawshank Redemption (1994)    9.3\n",
      "2            2. The Godfather (1972)    9.3\n",
      "3          3. The Dark Knight (2008)    9.3\n",
      "4         4. Schindler's List (1993)    9.3\n",
      "5    5. The Godfather Part II (1974)    9.3\n",
      "6             6. 12 Angry Men (1957)    9.3\n",
      "                                          num_vote\n",
      "1  Votes: 2,692,081 | Gross: $28.34M | Top 250: #1\n",
      "2 Votes: 1,867,764 | Gross: $134.97M | Top 250: #2\n",
      "3 Votes: 2,665,841 | Gross: $534.86M | Top 250: #3\n",
      "4  Votes: 1,361,479 | Gross: $96.90M | Top 250: #6\n",
      "5  Votes: 1,277,274 | Gross: $57.30M | Top 250: #4\n",
      "6     Votes: 795,361 | Gross: $4.36M | Top 250: #5\n"
     ],
     "output_type":"stream"
    }
   ],
   "metadata":{
    "datalore":{
     "node_id":"reB8C2P1XXRNSJDvCSajp1",
     "type":"CODE",
     "hide_input_from_viewers":false,
     "hide_output_from_viewers":false
    }
   }
  },
  {
   "cell_type":"code",
   "source":[
    "write_csv(df,\"imdb.csv\")"
   ],
   "execution_count":17,
   "outputs":[
    
   ],
   "metadata":{
    "datalore":{
     "node_id":"FcBKtOdouu1SBR2WDTfxtq",
     "type":"CODE",
     "hide_input_from_viewers":false,
     "hide_output_from_viewers":false
    }
   }
  },
  {
   "cell_type":"code",
   "source":[
    
   ],
   "execution_count":null,
   "outputs":[
    
   ],
   "metadata":{
    "datalore":{
     "node_id":"AuRTyegQelwuEmUDv1cpM8",
     "type":"CODE",
     "hide_input_from_viewers":false,
     "hide_output_from_viewers":false
    }
   }
  },
  {
   "cell_type":"markdown",
   "source":[
    "# SpecPhone"
   ],
   "attachments":{
    
   },
   "metadata":{
    "datalore":{
     "node_id":"SpecPhone",
     "type":"MD",
     "hide_input_from_viewers":false,
     "hide_output_from_viewers":false,
     "sheet_delimiter":true
    }
   }
  },
  {
   "cell_type":"markdown",
   "source":[
    "# Mini Project 2 - Specphone Phone Database"
   ],
   "attachments":{
    
   },
   "metadata":{
    "datalore":{
     "node_id":"oI0uKFTqqQn0TVh7jiA1nB",
     "type":"MD",
     "hide_input_from_viewers":false,
     "hide_output_from_viewers":false
    }
   }
  },
  {
   "cell_type":"code",
   "source":[
    "library(tidyverse)\n",
    "library(rvest)"
   ],
   "execution_count":9,
   "outputs":[
    {
     "name":"stderr",
     "text":[
      "Warning message in system(\"timedatectl\", intern = TRUE):\n",
      "“running command 'timedatectl' had status 1”\n",
      "Warning message:\n",
      "“Failed to locate timezone database”\n",
      "── \u001b[1mAttaching packages\u001b[22m ─────────────────────────────────────── tidyverse 1.3.1 ──\n",
      "\n",
      "\u001b[32m✔\u001b[39m \u001b[34mggplot2\u001b[39m 3.3.5     \u001b[32m✔\u001b[39m \u001b[34mpurrr  \u001b[39m 0.3.4\n",
      "\u001b[32m✔\u001b[39m \u001b[34mtibble \u001b[39m 3.1.5     \u001b[32m✔\u001b[39m \u001b[34mdplyr  \u001b[39m 1.0.7\n",
      "\u001b[32m✔\u001b[39m \u001b[34mtidyr  \u001b[39m 1.1.4     \u001b[32m✔\u001b[39m \u001b[34mstringr\u001b[39m 1.4.0\n",
      "\u001b[32m✔\u001b[39m \u001b[34mreadr  \u001b[39m 2.0.2     \u001b[32m✔\u001b[39m \u001b[34mforcats\u001b[39m 0.5.1\n",
      "\n",
      "── \u001b[1mConflicts\u001b[22m ────────────────────────────────────────── tidyverse_conflicts() ──\n",
      "\u001b[31m✖\u001b[39m \u001b[34mdplyr\u001b[39m::\u001b[32mfilter()\u001b[39m  masks \u001b[34mstats\u001b[39m::filter()\n",
      "\u001b[31m✖\u001b[39m \u001b[34mpurrr\u001b[39m::\u001b[32mflatten()\u001b[39m masks \u001b[34mjsonlite\u001b[39m::flatten()\n",
      "\u001b[31m✖\u001b[39m \u001b[34mdplyr\u001b[39m::\u001b[32mlag()\u001b[39m     masks \u001b[34mstats\u001b[39m::lag()\n",
      "\n",
      "\n",
      "Attaching package: ‘rvest’\n",
      "\n",
      "\n",
      "The following object is masked from ‘package:readr’:\n",
      "\n",
      "    guess_encoding\n",
      "\n",
      "\n"
     ],
     "output_type":"stream"
    }
   ],
   "metadata":{
    "datalore":{
     "node_id":"b1jK8Gfz0QSzTv7PGI5GzV",
     "type":"CODE",
     "hide_input_from_viewers":false,
     "hide_output_from_viewers":false
    }
   }
  },
  {
   "cell_type":"code",
   "source":[
    "url <- read_html(\"https:\/\/specphone.com\/Samsung-Galaxy-A04.html\")"
   ],
   "execution_count":10,
   "outputs":[
    
   ],
   "metadata":{
    "datalore":{
     "node_id":"wKFpRCYWJ3J1ZGATKnCuV4",
     "type":"CODE",
     "hide_input_from_viewers":false,
     "hide_output_from_viewers":false
    }
   }
  },
  {
   "cell_type":"code",
   "source":[
    "att <- url %>% \n",
    "    html_nodes(\"div.topic\") %>%\n",
    "    html_text2()\n",
    "\n",
    "detail <- url %>% \n",
    "    html_nodes(\"div.detail\") %>%\n",
    "    html_text2()"
   ],
   "execution_count":11,
   "outputs":[
    
   ],
   "metadata":{
    "datalore":{
     "node_id":"4hB0PznL7D1LPvv8z6kS2i",
     "type":"CODE",
     "hide_input_from_viewers":false,
     "hide_output_from_viewers":false
    }
   }
  },
  {
   "cell_type":"code",
   "source":[
    "data.frame(attribute = att, value = detail)"
   ],
   "execution_count":12,
   "outputs":[
    {
     "data":{
      "text\/html":[
       "<table class=\"dataframe\">\n",
       "<caption>A data.frame: 31 × 2<\/caption>\n",
       "<thead>\n",
       "\t<tr><th scope=col>attribute<\/th><th scope=col>value<\/th><\/tr>\n",
       "\t<tr><th scope=col>&lt;chr&gt;<\/th><th scope=col>&lt;chr&gt;<\/th><\/tr>\n",
       "<\/thead>\n",
       "<tbody>\n",
       "\t<tr><td>วันเปิดตัว       <\/td><td>ตุลาคม 2565                                                  <\/td><\/tr>\n",
       "\t<tr><td>วันวางจำหน่าย   <\/td><td>ยังไม่วางจำหน่าย                                               <\/td><\/tr>\n",
       "\t<tr><td>ขนาด          <\/td><td>164.40 x 76.30 x 9.10 มม.                                   <\/td><\/tr>\n",
       "\t<tr><td>น้ำหนัก         <\/td><td>192 กรัม                                                     <\/td><\/tr>\n",
       "\t<tr><td>วัสดุ           <\/td><td>Glass front, plastic back, plastic frame                    <\/td><\/tr>\n",
       "\t<tr><td>SIM           <\/td><td>รองรับ 2 ซิมการ์ด (nano sim, nano sim)                         <\/td><\/tr>\n",
       "\t<tr><td>Technology    <\/td><td>HSPA 42.2\/5.76 Mbps, LTE-A                                  <\/td><\/tr>\n",
       "\t<tr><td>2G            <\/td><td>850\/900\/1800\/1900                                           <\/td><\/tr>\n",
       "\t<tr><td>3G            <\/td><td>850\/900\/1900\/2100                                           <\/td><\/tr>\n",
       "\t<tr><td>4G            <\/td><td>850\/900\/1900\/2100\/2600                                      <\/td><\/tr>\n",
       "\t<tr><td>5G            <\/td><td>-                                                           <\/td><\/tr>\n",
       "\t<tr><td>ความเร็ว       <\/td><td>HSPA 42.2\/5.76 Mbps, LTE-A                                  <\/td><\/tr>\n",
       "\t<tr><td>ประเภท        <\/td><td>PLS LCD                                                     <\/td><\/tr>\n",
       "\t<tr><td>ขนาดหน้าจอ     <\/td><td>6.50 นิ้ว                                                     <\/td><\/tr>\n",
       "\t<tr><td>ความละเอียด    <\/td><td>720 x 1600 pixels                                           <\/td><\/tr>\n",
       "\t<tr><td>ระบบปฏิบัติการ   <\/td><td>Android 12                                                  <\/td><\/tr>\n",
       "\t<tr><td>ชิปประมวลผล    <\/td><td>Spreadtrum Unisoc SC9863A 1.6 GHz                           <\/td><\/tr>\n",
       "\t<tr><td>ชิปกราฟิก       <\/td><td>PowerVR GE8322                                              <\/td><\/tr>\n",
       "\t<tr><td>หน่วยความจำ    <\/td><td>3 GB                                                        <\/td><\/tr>\n",
       "\t<tr><td>ความจุ         <\/td><td>32 GB                                                       <\/td><\/tr>\n",
       "\t<tr><td>Memory Card   <\/td><td>microSD (1)                                                 <\/td><\/tr>\n",
       "\t<tr><td>กล้องหลัก       <\/td><td>ตัวที่ 1: 50 MP, f\/1.8, (wide), AF\n",
       "ตัวที่ 2: 2 MP, f\/2.4, (depth)<\/td><\/tr>\n",
       "\t<tr><td>ความละเอียดวีดีโอ<\/td><td>1080p@30fps                                                 <\/td><\/tr>\n",
       "\t<tr><td>กล้องหน้า       <\/td><td>ตัวที่ 1: 5 MP, f\/2.2                                          <\/td><\/tr>\n",
       "\t<tr><td>Bluetooth     <\/td><td>5.0, A2DP, LE                                               <\/td><\/tr>\n",
       "\t<tr><td>Wi-Fi         <\/td><td>802.11 a\/b\/g\/n\/ac, dual-b                                   <\/td><\/tr>\n",
       "\t<tr><td>USB           <\/td><td>Type-C                                                      <\/td><\/tr>\n",
       "\t<tr><td>GPS           <\/td><td>GLONASS, GALILEO, BDS                                       <\/td><\/tr>\n",
       "\t<tr><td>NFC           <\/td><td>ไม่รองรับ                                                     <\/td><\/tr>\n",
       "\t<tr><td>ความจุ         <\/td><td>5,000 mAh                                                   <\/td><\/tr>\n",
       "\t<tr><td>ประเภท        <\/td><td>Non-removable Li-Po Batt                                    <\/td><\/tr>\n",
       "<\/tbody>\n",
       "<\/table>\n"
      ]
     },
     "metadata":{
      
     },
     "output_type":"display_data"
    }
   ],
   "metadata":{
    "datalore":{
     "node_id":"WzPbbJRXWybUkeI2ZCOLwe",
     "type":"CODE",
     "hide_input_from_viewers":false,
     "hide_output_from_viewers":false
    }
   }
  },
  {
   "cell_type":"code",
   "source":[
    "## All Samsung Smartphones\n",
    "\n",
    "samsung_url <- read_html(\"https:\/\/specphone.com\/brand\/Samsung\")"
   ],
   "execution_count":13,
   "outputs":[
    
   ],
   "metadata":{
    "datalore":{
     "node_id":"iW4woY75CI0A2wa3ewSOqe",
     "type":"CODE",
     "hide_input_from_viewers":false,
     "hide_output_from_viewers":false
    }
   }
  },
  {
   "cell_type":"code",
   "source":[
    "## Links to all Samsung Smartphones\n",
    "\n",
    "links <-samsung_url %>%\n",
    "        html_nodes(\"li.mobile-brand-item a\") %>% ## Spacebar -> จงหา a ที่อยู่ใน li.mobile-brand-item\n",
    "        html_attr(\"href\")"
   ],
   "execution_count":14,
   "outputs":[
    
   ],
   "metadata":{
    "datalore":{
     "node_id":"UiojdXdPNacxywMN9sHXGp",
     "type":"CODE",
     "hide_input_from_viewers":false,
     "hide_output_from_viewers":false
    }
   }
  },
  {
   "cell_type":"code",
   "source":[
    "full_links <-paste0(\"https:\/\/specphone.com\", links)"
   ],
   "execution_count":15,
   "outputs":[
    
   ],
   "metadata":{
    "datalore":{
     "node_id":"YfyXsTA4WwMhqKboxYU7JS",
     "type":"CODE",
     "hide_input_from_viewers":false,
     "hide_output_from_viewers":false
    }
   }
  },
  {
   "cell_type":"code",
   "source":[
    "result <- data.frame()\n",
    "\n",
    "for (link in full_links){ \n",
    "    ss_topic <- link %>% \n",
    "        read_html %>%\n",
    "        html_nodes(\"div.topic\") %>%\n",
    "        html_text2()\n",
    "\n",
    "    ss_detail <- link %>% \n",
    "        read_html %>%\n",
    "        html_nodes(\"div.detail\") %>%\n",
    "        html_text2()\n",
    "\n",
    "    tmp <- data.frame(attributes = ss_topic,\n",
    "                      value = ss_detail)\n",
    "\n",
    "    result <- bind_rows(result,tmp)\n",
    "    print(\"Progress ...\")\n",
    "    }\n",
    "   "
   ],
   "execution_count":16,
   "outputs":[
    {
     "name":"stdout",
     "text":[
      "[1] \"Progress ...\"\n",
      "[1] \"Progress ...\"\n",
      "[1] \"Progress ...\"\n",
      "[1] \"Progress ...\"\n",
      "[1] \"Progress ...\"\n",
      "[1] \"Progress ...\"\n",
      "[1] \"Progress ...\"\n",
      "[1] \"Progress ...\"\n",
      "[1] \"Progress ...\"\n",
      "[1] \"Progress ...\"\n",
      "[1] \"Progress ...\"\n",
      "[1] \"Progress ...\"\n",
      "[1] \"Progress ...\"\n",
      "[1] \"Progress ...\"\n",
      "[1] \"Progress ...\"\n",
      "[1] \"Progress ...\"\n",
      "[1] \"Progress ...\"\n",
      "[1] \"Progress ...\"\n",
      "[1] \"Progress ...\"\n",
      "[1] \"Progress ...\"\n",
      "[1] \"Progress ...\"\n",
      "[1] \"Progress ...\"\n",
      "[1] \"Progress ...\"\n",
      "[1] \"Progress ...\"\n",
      "[1] \"Progress ...\"\n",
      "[1] \"Progress ...\"\n",
      "[1] \"Progress ...\"\n",
      "[1] \"Progress ...\"\n",
      "[1] \"Progress ...\"\n",
      "[1] \"Progress ...\"\n",
      "[1] \"Progress ...\"\n",
      "[1] \"Progress ...\"\n",
      "[1] \"Progress ...\"\n",
      "[1] \"Progress ...\"\n",
      "[1] \"Progress ...\"\n",
      "[1] \"Progress ...\"\n",
      "[1] \"Progress ...\"\n",
      "[1] \"Progress ...\"\n",
      "[1] \"Progress ...\"\n",
      "[1] \"Progress ...\"\n",
      "[1] \"Progress ...\"\n",
      "[1] \"Progress ...\"\n",
      "[1] \"Progress ...\"\n",
      "[1] \"Progress ...\"\n",
      "[1] \"Progress ...\"\n",
      "[1] \"Progress ...\"\n",
      "[1] \"Progress ...\"\n",
      "[1] \"Progress ...\"\n",
      "[1] \"Progress ...\"\n",
      "[1] \"Progress ...\"\n",
      "[1] \"Progress ...\"\n",
      "[1] \"Progress ...\"\n",
      "[1] \"Progress ...\"\n",
      "[1] \"Progress ...\"\n",
      "[1] \"Progress ...\"\n",
      "[1] \"Progress ...\"\n",
      "[1] \"Progress ...\"\n",
      "[1] \"Progress ...\"\n",
      "[1] \"Progress ...\"\n",
      "[1] \"Progress ...\"\n"
     ],
     "output_type":"stream"
    }
   ],
   "metadata":{
    "datalore":{
     "node_id":"4QpfVewOBfayJk3vNftIy5",
     "type":"CODE",
     "hide_input_from_viewers":false,
     "hide_output_from_viewers":false
    }
   }
  },
  {
   "cell_type":"code",
   "source":[
    "print(head(result),3)"
   ],
   "execution_count":17,
   "outputs":[
    {
     "name":"stdout",
     "text":[
      "   attributes                                    value\n",
      "1     วันเปิดตัว                              มิถุนายน 2565\n",
      "2 วันวางจำหน่าย                            ยังไม่วางจำหน่าย\n",
      "3        ขนาด                165.40 x 76.90 x 8.40 มม.\n",
      "4       น้ำหนัก                                  192 กรัม\n",
      "5         วัสดุ Glass front, plastic back, plastic frame\n",
      "6         SIM      รองรับ 2 ซิมการ์ด (nano sim, nano sim)\n"
     ],
     "output_type":"stream"
    }
   ],
   "metadata":{
    "datalore":{
     "node_id":"H33eeuM8PYhDEDrpk3qHiv",
     "type":"CODE",
     "hide_input_from_viewers":false,
     "hide_output_from_viewers":false
    }
   }
  },
  {
   "cell_type":"code",
   "source":[
    "## Write csv\n",
    "write_csv(result,\"result_ss_phone.csv\")"
   ],
   "execution_count":18,
   "outputs":[
    
   ],
   "metadata":{
    "datalore":{
     "node_id":"ijq7hO3Uh4xkFJ5zcXxgli",
     "type":"CODE",
     "hide_input_from_viewers":false,
     "hide_output_from_viewers":false
    }
   }
  }
 ],
 "metadata":{
  "kernelspec":{
   "display_name":"R",
   "language":"r",
   "name":"ir"
  },
  "datalore":{
   "version":1,
   "computation_mode":"JUPYTER",
   "package_manager":"conda",
   "base_environment":"minimal",
   "packages":[
    
   ]
  }
 },
 "nbformat":4,
 "nbformat_minor":4
}