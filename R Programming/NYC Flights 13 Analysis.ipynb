{
 "cells":[
  {
   "cell_type":"markdown",
   "source":[
    "# **NYC FLIGHTS PACKAGES ANALYSIS**"
   ],
   "attachments":{
    
   },
   "metadata":{
    "datalore":{
     "node_id":"C3N6zNfF8eSUtItVvwaOLW",
     "type":"MD",
     "hide_input_from_viewers":false,
     "hide_output_from_viewers":false
    }
   }
  },
  {
   "cell_type":"code",
   "source":[
    "install.packages(\"nycflights13\")\n",
    "library (tidyverse)"
   ],
   "execution_count":1,
   "outputs":[
    {
     "name":"stderr",
     "text":[
      "Updating HTML index of packages in '.Library'\n",
      "\n",
      "Making 'packages.html' ...\n",
      " done\n",
      "\n",
      "Warning message in system(\"timedatectl\", intern = TRUE):\n",
      "“running command 'timedatectl' had status 1”\n",
      "Warning message:\n",
      "“Failed to locate timezone database”\n",
      "── \u001b[1mAttaching packages\u001b[22m ─────────────────────────────────────── tidyverse 1.3.1 ──\n",
      "\n",
      "\u001b[32m✔\u001b[39m \u001b[34mggplot2\u001b[39m 3.3.5     \u001b[32m✔\u001b[39m \u001b[34mpurrr  \u001b[39m 0.3.4\n",
      "\u001b[32m✔\u001b[39m \u001b[34mtibble \u001b[39m 3.1.5     \u001b[32m✔\u001b[39m \u001b[34mdplyr  \u001b[39m 1.0.7\n",
      "\u001b[32m✔\u001b[39m \u001b[34mtidyr  \u001b[39m 1.1.4     \u001b[32m✔\u001b[39m \u001b[34mstringr\u001b[39m 1.4.0\n",
      "\u001b[32m✔\u001b[39m \u001b[34mreadr  \u001b[39m 2.0.2     \u001b[32m✔\u001b[39m \u001b[34mforcats\u001b[39m 0.5.1\n",
      "\n",
      "── \u001b[1mConflicts\u001b[22m ────────────────────────────────────────── tidyverse_conflicts() ──\n",
      "\u001b[31m✖\u001b[39m \u001b[34mdplyr\u001b[39m::\u001b[32mfilter()\u001b[39m  masks \u001b[34mstats\u001b[39m::filter()\n",
      "\u001b[31m✖\u001b[39m \u001b[34mpurrr\u001b[39m::\u001b[32mflatten()\u001b[39m masks \u001b[34mjsonlite\u001b[39m::flatten()\n",
      "\u001b[31m✖\u001b[39m \u001b[34mdplyr\u001b[39m::\u001b[32mlag()\u001b[39m     masks \u001b[34mstats\u001b[39m::lag()\n",
      "\n"
     ],
     "output_type":"stream"
    }
   ],
   "metadata":{
    "datalore":{
     "node_id":"n1NAfPlXrdAPwMqzfthUtX",
     "type":"CODE",
     "hide_input_from_viewers":false,
     "hide_output_from_viewers":false
    }
   }
  },
  {
   "cell_type":"code",
   "source":[
    "library (nycflights13)"
   ],
   "execution_count":2,
   "outputs":[
    
   ],
   "metadata":{
    "datalore":{
     "node_id":"z0FqgDv3YbUBGpwJJLDsnj",
     "type":"CODE",
     "hide_input_from_viewers":false,
     "hide_output_from_viewers":false
    }
   }
  },
  {
   "cell_type":"code",
   "source":[
    "\n",
    "# preview packages nycflights13\n",
    "ls(\"package:nycflights13\")"
   ],
   "execution_count":16,
   "outputs":[
    {
     "data":{
      "text\/html":[
       "<style>\n",
       ".list-inline {list-style: none; margin:0; padding: 0}\n",
       ".list-inline>li {display: inline-block}\n",
       ".list-inline>li:not(:last-child)::after {content: \"\\00b7\"; padding: 0 .5ex}\n",
       "<\/style>\n",
       "<ol class=list-inline><li>'airlines'<\/li><li>'airports'<\/li><li>'flights'<\/li><li>'planes'<\/li><li>'weather'<\/li><\/ol>\n"
      ]
     },
     "metadata":{
      
     },
     "output_type":"display_data"
    }
   ],
   "metadata":{
    "datalore":{
     "node_id":"vV9iTuB0QwDEZE3SkfCVWU",
     "type":"CODE",
     "hide_input_from_viewers":false,
     "hide_output_from_viewers":false
    }
   }
  },
  {
   "cell_type":"code",
   "source":[
    "#glimpse data\n",
    "print(\"airlines\") # Print table name\n",
    "glimpse(airlines) # Glimpse table\n",
    "cat(\"\\n\")         # Line space\n",
    "print(\"airports\")\n",
    "glimpse(airports)\n",
    "cat(\"\\n\")\n",
    "print(\"flights\")\n",
    "glimpse(flights)\n",
    "cat(\"\\n\")\n",
    "print(\"planes\")\n",
    "glimpse(planes)\n",
    "cat(\"\\n\")\n",
    "print(\"weather\")\n",
    "glimpse(weather)\n",
    "cat(\"\\n\")"
   ],
   "execution_count":3,
   "outputs":[
    {
     "name":"stdout",
     "text":[
      "[1] \"airlines\"\n",
      "Rows: 16\n",
      "Columns: 2\n",
      "$ carrier \u001b[3m\u001b[90m<chr>\u001b[39m\u001b[23m \"9E\", \"AA\", \"AS\", \"B6\", \"DL\", \"EV\", \"F9\", \"FL\", \"HA\", \"MQ\", \"O…\n",
      "$ name    \u001b[3m\u001b[90m<chr>\u001b[39m\u001b[23m \"Endeavor Air Inc.\", \"American Airlines Inc.\", \"Alaska Airline…\n",
      "\n",
      "[1] \"airports\"\n",
      "Rows: 1,458\n",
      "Columns: 8\n",
      "$ faa   \u001b[3m\u001b[90m<chr>\u001b[39m\u001b[23m \"04G\", \"06A\", \"06C\", \"06N\", \"09J\", \"0A9\", \"0G6\", \"0G7\", \"0P2\", \"…\n",
      "$ name  \u001b[3m\u001b[90m<chr>\u001b[39m\u001b[23m \"Lansdowne Airport\", \"Moton Field Municipal Airport\", \"Schaumbur…\n",
      "$ lat   \u001b[3m\u001b[90m<dbl>\u001b[39m\u001b[23m 41.13047, 32.46057, 41.98934, 41.43191, 31.07447, 36.37122, 41.4…\n",
      "$ lon   \u001b[3m\u001b[90m<dbl>\u001b[39m\u001b[23m -80.61958, -85.68003, -88.10124, -74.39156, -81.42778, -82.17342…\n",
      "$ alt   \u001b[3m\u001b[90m<dbl>\u001b[39m\u001b[23m 1044, 264, 801, 523, 11, 1593, 730, 492, 1000, 108, 409, 875, 10…\n",
      "$ tz    \u001b[3m\u001b[90m<dbl>\u001b[39m\u001b[23m -5, -6, -6, -5, -5, -5, -5, -5, -5, -8, -5, -6, -5, -5, -5, -5, …\n",
      "$ dst   \u001b[3m\u001b[90m<chr>\u001b[39m\u001b[23m \"A\", \"A\", \"A\", \"A\", \"A\", \"A\", \"A\", \"A\", \"U\", \"A\", \"A\", \"U\", \"A\",…\n",
      "$ tzone \u001b[3m\u001b[90m<chr>\u001b[39m\u001b[23m \"America\/New_York\", \"America\/Chicago\", \"America\/Chicago\", \"Ameri…\n",
      "\n",
      "[1] \"flights\"\n",
      "Rows: 336,776\n",
      "Columns: 19\n",
      "$ year           \u001b[3m\u001b[90m<int>\u001b[39m\u001b[23m 2013, 2013, 2013, 2013, 2013, 2013, 2013, 2013, 2013, 2…\n",
      "$ month          \u001b[3m\u001b[90m<int>\u001b[39m\u001b[23m 1, 1, 1, 1, 1, 1, 1, 1, 1, 1, 1, 1, 1, 1, 1, 1, 1, 1, 1…\n",
      "$ day            \u001b[3m\u001b[90m<int>\u001b[39m\u001b[23m 1, 1, 1, 1, 1, 1, 1, 1, 1, 1, 1, 1, 1, 1, 1, 1, 1, 1, 1…\n",
      "$ dep_time       \u001b[3m\u001b[90m<int>\u001b[39m\u001b[23m 517, 533, 542, 544, 554, 554, 555, 557, 557, 558, 558, …\n",
      "$ sched_dep_time \u001b[3m\u001b[90m<int>\u001b[39m\u001b[23m 515, 529, 540, 545, 600, 558, 600, 600, 600, 600, 600, …\n",
      "$ dep_delay      \u001b[3m\u001b[90m<dbl>\u001b[39m\u001b[23m 2, 4, 2, -1, -6, -4, -5, -3, -3, -2, -2, -2, -2, -2, -1…\n",
      "$ arr_time       \u001b[3m\u001b[90m<int>\u001b[39m\u001b[23m 830, 850, 923, 1004, 812, 740, 913, 709, 838, 753, 849,…\n",
      "$ sched_arr_time \u001b[3m\u001b[90m<int>\u001b[39m\u001b[23m 819, 830, 850, 1022, 837, 728, 854, 723, 846, 745, 851,…\n",
      "$ arr_delay      \u001b[3m\u001b[90m<dbl>\u001b[39m\u001b[23m 11, 20, 33, -18, -25, 12, 19, -14, -8, 8, -2, -3, 7, -1…\n",
      "$ carrier        \u001b[3m\u001b[90m<chr>\u001b[39m\u001b[23m \"UA\", \"UA\", \"AA\", \"B6\", \"DL\", \"UA\", \"B6\", \"EV\", \"B6\", \"…\n",
      "$ flight         \u001b[3m\u001b[90m<int>\u001b[39m\u001b[23m 1545, 1714, 1141, 725, 461, 1696, 507, 5708, 79, 301, 4…\n",
      "$ tailnum        \u001b[3m\u001b[90m<chr>\u001b[39m\u001b[23m \"N14228\", \"N24211\", \"N619AA\", \"N804JB\", \"N668DN\", \"N394…\n",
      "$ origin         \u001b[3m\u001b[90m<chr>\u001b[39m\u001b[23m \"EWR\", \"LGA\", \"JFK\", \"JFK\", \"LGA\", \"EWR\", \"EWR\", \"LGA\",…\n",
      "$ dest           \u001b[3m\u001b[90m<chr>\u001b[39m\u001b[23m \"IAH\", \"IAH\", \"MIA\", \"BQN\", \"ATL\", \"ORD\", \"FLL\", \"IAD\",…\n",
      "$ air_time       \u001b[3m\u001b[90m<dbl>\u001b[39m\u001b[23m 227, 227, 160, 183, 116, 150, 158, 53, 140, 138, 149, 1…\n",
      "$ distance       \u001b[3m\u001b[90m<dbl>\u001b[39m\u001b[23m 1400, 1416, 1089, 1576, 762, 719, 1065, 229, 944, 733, …\n",
      "$ hour           \u001b[3m\u001b[90m<dbl>\u001b[39m\u001b[23m 5, 5, 5, 5, 6, 5, 6, 6, 6, 6, 6, 6, 6, 6, 6, 5, 6, 6, 6…\n",
      "$ minute         \u001b[3m\u001b[90m<dbl>\u001b[39m\u001b[23m 15, 29, 40, 45, 0, 58, 0, 0, 0, 0, 0, 0, 0, 0, 0, 59, 0…\n",
      "$ time_hour      \u001b[3m\u001b[90m<dttm>\u001b[39m\u001b[23m 2013-01-01 10:00:00, 2013-01-01 10:00:00, 2013-01-01 1…\n",
      "\n",
      "[1] \"planes\"\n",
      "Rows: 3,322\n",
      "Columns: 9\n",
      "$ tailnum      \u001b[3m\u001b[90m<chr>\u001b[39m\u001b[23m \"N10156\", \"N102UW\", \"N103US\", \"N104UW\", \"N10575\", \"N105UW…\n",
      "$ year         \u001b[3m\u001b[90m<int>\u001b[39m\u001b[23m 2004, 1998, 1999, 1999, 2002, 1999, 1999, 1999, 1999, 199…\n",
      "$ type         \u001b[3m\u001b[90m<chr>\u001b[39m\u001b[23m \"Fixed wing multi engine\", \"Fixed wing multi engine\", \"Fi…\n",
      "$ manufacturer \u001b[3m\u001b[90m<chr>\u001b[39m\u001b[23m \"EMBRAER\", \"AIRBUS INDUSTRIE\", \"AIRBUS INDUSTRIE\", \"AIRBU…\n",
      "$ model        \u001b[3m\u001b[90m<chr>\u001b[39m\u001b[23m \"EMB-145XR\", \"A320-214\", \"A320-214\", \"A320-214\", \"EMB-145…\n",
      "$ engines      \u001b[3m\u001b[90m<int>\u001b[39m\u001b[23m 2, 2, 2, 2, 2, 2, 2, 2, 2, 2, 2, 2, 2, 2, 2, 2, 2, 2, 2, …\n",
      "$ seats        \u001b[3m\u001b[90m<int>\u001b[39m\u001b[23m 55, 182, 182, 182, 55, 182, 182, 182, 182, 182, 55, 55, 5…\n",
      "$ speed        \u001b[3m\u001b[90m<int>\u001b[39m\u001b[23m NA, NA, NA, NA, NA, NA, NA, NA, NA, NA, NA, NA, NA, NA, N…\n",
      "$ engine       \u001b[3m\u001b[90m<chr>\u001b[39m\u001b[23m \"Turbo-fan\", \"Turbo-fan\", \"Turbo-fan\", \"Turbo-fan\", \"Turb…\n",
      "\n",
      "[1] \"weather\"\n",
      "Rows: 26,115\n",
      "Columns: 15\n",
      "$ origin     \u001b[3m\u001b[90m<chr>\u001b[39m\u001b[23m \"EWR\", \"EWR\", \"EWR\", \"EWR\", \"EWR\", \"EWR\", \"EWR\", \"EWR\", \"EW…\n",
      "$ year       \u001b[3m\u001b[90m<int>\u001b[39m\u001b[23m 2013, 2013, 2013, 2013, 2013, 2013, 2013, 2013, 2013, 2013,…\n",
      "$ month      \u001b[3m\u001b[90m<int>\u001b[39m\u001b[23m 1, 1, 1, 1, 1, 1, 1, 1, 1, 1, 1, 1, 1, 1, 1, 1, 1, 1, 1, 1,…\n",
      "$ day        \u001b[3m\u001b[90m<int>\u001b[39m\u001b[23m 1, 1, 1, 1, 1, 1, 1, 1, 1, 1, 1, 1, 1, 1, 1, 1, 1, 1, 1, 1,…\n",
      "$ hour       \u001b[3m\u001b[90m<int>\u001b[39m\u001b[23m 1, 2, 3, 4, 5, 6, 7, 8, 9, 10, 11, 13, 14, 15, 16, 17, 18, …\n",
      "$ temp       \u001b[3m\u001b[90m<dbl>\u001b[39m\u001b[23m 39.02, 39.02, 39.02, 39.92, 39.02, 37.94, 39.02, 39.92, 39.…\n",
      "$ dewp       \u001b[3m\u001b[90m<dbl>\u001b[39m\u001b[23m 26.06, 26.96, 28.04, 28.04, 28.04, 28.04, 28.04, 28.04, 28.…\n",
      "$ humid      \u001b[3m\u001b[90m<dbl>\u001b[39m\u001b[23m 59.37, 61.63, 64.43, 62.21, 64.43, 67.21, 64.43, 62.21, 62.…\n",
      "$ wind_dir   \u001b[3m\u001b[90m<dbl>\u001b[39m\u001b[23m 270, 250, 240, 250, 260, 240, 240, 250, 260, 260, 260, 330,…\n",
      "$ wind_speed \u001b[3m\u001b[90m<dbl>\u001b[39m\u001b[23m 10.35702, 8.05546, 11.50780, 12.65858, 12.65858, 11.50780, …\n",
      "$ wind_gust  \u001b[3m\u001b[90m<dbl>\u001b[39m\u001b[23m NA, NA, NA, NA, NA, NA, NA, NA, NA, NA, NA, NA, NA, NA, 20.…\n",
      "$ precip     \u001b[3m\u001b[90m<dbl>\u001b[39m\u001b[23m 0, 0, 0, 0, 0, 0, 0, 0, 0, 0, 0, 0, 0, 0, 0, 0, 0, 0, 0, 0,…\n",
      "$ pressure   \u001b[3m\u001b[90m<dbl>\u001b[39m\u001b[23m 1012.0, 1012.3, 1012.5, 1012.2, 1011.9, 1012.4, 1012.2, 101…\n",
      "$ visib      \u001b[3m\u001b[90m<dbl>\u001b[39m\u001b[23m 10, 10, 10, 10, 10, 10, 10, 10, 10, 10, 10, 10, 10, 10, 10,…\n",
      "$ time_hour  \u001b[3m\u001b[90m<dttm>\u001b[39m\u001b[23m 2013-01-01 06:00:00, 2013-01-01 07:00:00, 2013-01-01 08:00…\n",
      "\n"
     ],
     "output_type":"stream"
    }
   ],
   "metadata":{
    "datalore":{
     "node_id":"TNNGohfj4chNBOZ8BKrijy",
     "type":"CODE",
     "hide_input_from_viewers":false,
     "hide_output_from_viewers":false
    }
   }
  },
  {
   "cell_type":"code",
   "source":[
    "With data above 'flights' seems to be fact table link to other dimension tables."
   ],
   "execution_count":null,
   "outputs":[
    
   ],
   "metadata":{
    "datalore":{
     "node_id":"URH8b6R0xbsuVtrtknFVmc",
     "type":"CODE",
     "hide_input_from_viewers":false,
     "hide_output_from_viewers":false
    }
   }
  },
  {
   "cell_type":"markdown",
   "source":[
    "# Q1: Which airlines had the most flights during the first half of 2013?"
   ],
   "attachments":{
    
   },
   "metadata":{
    "datalore":{
     "node_id":"thWhhG4EqNj4OnZ0b3HaKN",
     "type":"MD",
     "hide_input_from_viewers":false,
     "hide_output_from_viewers":false
    }
   }
  },
  {
   "cell_type":"code",
   "source":[
    "\n",
    "flights %>%\n",
    "    inner_join(airlines,by = \"carrier\") %>% # Join Airlines table for full airline names\n",
    "    filter (year == 2013,month <7) %>%      # filter month from 1 - 6\n",
    "    group_by(name) %>%              # Group results into airline names\n",
    "    select(name) %>%                # Show only carrier and name column\n",
    "    summarise (flight_count = n()) %>%      # Count flight in each airline\n",
    "    arrange(desc(flight_count))             # Sort data by count\n",
    "    \n",
    "   \n",
    "                  "
   ],
   "execution_count":9,
   "outputs":[
    {
     "data":{
      "text\/html":[
       "<table class=\"dataframe\">\n",
       "<caption>A tibble: 16 × 2<\/caption>\n",
       "<thead>\n",
       "\t<tr><th scope=col>name<\/th><th scope=col>flight_count<\/th><\/tr>\n",
       "\t<tr><th scope=col>&lt;chr&gt;<\/th><th scope=col>&lt;int&gt;<\/th><\/tr>\n",
       "<\/thead>\n",
       "<tbody>\n",
       "\t<tr><td>United Air Lines Inc.      <\/td><td>28936<\/td><\/tr>\n",
       "\t<tr><td>JetBlue Airways            <\/td><td>27017<\/td><\/tr>\n",
       "\t<tr><td>ExpressJet Airlines Inc.   <\/td><td>26558<\/td><\/tr>\n",
       "\t<tr><td>Delta Air Lines Inc.       <\/td><td>23623<\/td><\/tr>\n",
       "\t<tr><td>American Airlines Inc.     <\/td><td>16380<\/td><\/tr>\n",
       "\t<tr><td>Envoy Air                  <\/td><td>13244<\/td><\/tr>\n",
       "\t<tr><td>US Airways Inc.            <\/td><td>10123<\/td><\/tr>\n",
       "\t<tr><td>Endeavor Air Inc.          <\/td><td> 9069<\/td><\/tr>\n",
       "\t<tr><td>Southwest Airlines Co.     <\/td><td> 5919<\/td><\/tr>\n",
       "\t<tr><td>Virgin America             <\/td><td> 2332<\/td><\/tr>\n",
       "\t<tr><td>AirTran Airways Corporation<\/td><td> 1828<\/td><\/tr>\n",
       "\t<tr><td>Alaska Airlines Inc.       <\/td><td>  362<\/td><\/tr>\n",
       "\t<tr><td>Frontier Airlines Inc.     <\/td><td>  335<\/td><\/tr>\n",
       "\t<tr><td>Mesa Airlines Inc.         <\/td><td>  248<\/td><\/tr>\n",
       "\t<tr><td>Hawaiian Airlines Inc.     <\/td><td>  181<\/td><\/tr>\n",
       "\t<tr><td>SkyWest Airlines Inc.      <\/td><td>    3<\/td><\/tr>\n",
       "<\/tbody>\n",
       "<\/table>\n"
      ]
     },
     "metadata":{
      
     },
     "output_type":"display_data"
    }
   ],
   "metadata":{
    "datalore":{
     "node_id":"piiZVeTK893m9NOlwfLN3o",
     "type":"CODE",
     "hide_input_from_viewers":false,
     "hide_output_from_viewers":false
    }
   }
  },
  {
   "cell_type":"markdown",
   "source":[
    "# Q2: Which airport has the most arrivals by each airline?"
   ],
   "attachments":{
    
   },
   "metadata":{
    "datalore":{
     "node_id":"fqqxvf7NmLfl7jnUL21SxD",
     "type":"MD",
     "hide_input_from_viewers":false,
     "hide_output_from_viewers":false
    }
   }
  },
  {
   "cell_type":"code",
   "source":[
    "temp_airlines <- rename(airlines, airline_name = name)  # Rename Airlines' name column to prevent duplicate name with Airports' column\n",
    "temp_airports <- rename(airports, airport_name = name)  # Rename Airports' name column to prevent duplicate name with Airlines' column"
   ],
   "execution_count":125,
   "outputs":[
    {
     "data":{
      "text\/html":[
       "<table class=\"dataframe\">\n",
       "<caption>A tibble: 1458 × 8<\/caption>\n",
       "<thead>\n",
       "\t<tr><th scope=col>faa<\/th><th scope=col>airport_name<\/th><th scope=col>lat<\/th><th scope=col>lon<\/th><th scope=col>alt<\/th><th scope=col>tz<\/th><th scope=col>dst<\/th><th scope=col>tzone<\/th><\/tr>\n",
       "\t<tr><th scope=col>&lt;chr&gt;<\/th><th scope=col>&lt;chr&gt;<\/th><th scope=col>&lt;dbl&gt;<\/th><th scope=col>&lt;dbl&gt;<\/th><th scope=col>&lt;dbl&gt;<\/th><th scope=col>&lt;dbl&gt;<\/th><th scope=col>&lt;chr&gt;<\/th><th scope=col>&lt;chr&gt;<\/th><\/tr>\n",
       "<\/thead>\n",
       "<tbody>\n",
       "\t<tr><td>04G<\/td><td>Lansdowne Airport                   <\/td><td>41.13047<\/td><td> -80.61958<\/td><td>1044<\/td><td>-5<\/td><td>A<\/td><td>America\/New_York   <\/td><\/tr>\n",
       "\t<tr><td>06A<\/td><td>Moton Field Municipal Airport       <\/td><td>32.46057<\/td><td> -85.68003<\/td><td> 264<\/td><td>-6<\/td><td>A<\/td><td>America\/Chicago    <\/td><\/tr>\n",
       "\t<tr><td>06C<\/td><td>Schaumburg Regional                 <\/td><td>41.98934<\/td><td> -88.10124<\/td><td> 801<\/td><td>-6<\/td><td>A<\/td><td>America\/Chicago    <\/td><\/tr>\n",
       "\t<tr><td>06N<\/td><td>Randall Airport                     <\/td><td>41.43191<\/td><td> -74.39156<\/td><td> 523<\/td><td>-5<\/td><td>A<\/td><td>America\/New_York   <\/td><\/tr>\n",
       "\t<tr><td>09J<\/td><td>Jekyll Island Airport               <\/td><td>31.07447<\/td><td> -81.42778<\/td><td>  11<\/td><td>-5<\/td><td>A<\/td><td>America\/New_York   <\/td><\/tr>\n",
       "\t<tr><td>0A9<\/td><td>Elizabethton Municipal Airport      <\/td><td>36.37122<\/td><td> -82.17342<\/td><td>1593<\/td><td>-5<\/td><td>A<\/td><td>America\/New_York   <\/td><\/tr>\n",
       "\t<tr><td>0G6<\/td><td>Williams County Airport             <\/td><td>41.46731<\/td><td> -84.50678<\/td><td> 730<\/td><td>-5<\/td><td>A<\/td><td>America\/New_York   <\/td><\/tr>\n",
       "\t<tr><td>0G7<\/td><td>Finger Lakes Regional Airport       <\/td><td>42.88356<\/td><td> -76.78123<\/td><td> 492<\/td><td>-5<\/td><td>A<\/td><td>America\/New_York   <\/td><\/tr>\n",
       "\t<tr><td>0P2<\/td><td>Shoestring Aviation Airfield        <\/td><td>39.79482<\/td><td> -76.64719<\/td><td>1000<\/td><td>-5<\/td><td>U<\/td><td>America\/New_York   <\/td><\/tr>\n",
       "\t<tr><td>0S9<\/td><td>Jefferson County Intl               <\/td><td>48.05381<\/td><td>-122.81064<\/td><td> 108<\/td><td>-8<\/td><td>A<\/td><td>America\/Los_Angeles<\/td><\/tr>\n",
       "\t<tr><td>0W3<\/td><td>Harford County Airport              <\/td><td>39.56684<\/td><td> -76.20240<\/td><td> 409<\/td><td>-5<\/td><td>A<\/td><td>America\/New_York   <\/td><\/tr>\n",
       "\t<tr><td>10C<\/td><td>Galt Field Airport                  <\/td><td>42.40289<\/td><td> -88.37511<\/td><td> 875<\/td><td>-6<\/td><td>U<\/td><td>America\/Chicago    <\/td><\/tr>\n",
       "\t<tr><td>17G<\/td><td>Port Bucyrus-Crawford County Airport<\/td><td>40.78156<\/td><td> -82.97481<\/td><td>1003<\/td><td>-5<\/td><td>A<\/td><td>America\/New_York   <\/td><\/tr>\n",
       "\t<tr><td>19A<\/td><td>Jackson County Airport              <\/td><td>34.17586<\/td><td> -83.56160<\/td><td> 951<\/td><td>-5<\/td><td>U<\/td><td>America\/New_York   <\/td><\/tr>\n",
       "\t<tr><td>1A3<\/td><td>Martin Campbell Field Airport       <\/td><td>35.01581<\/td><td> -84.34683<\/td><td>1789<\/td><td>-5<\/td><td>A<\/td><td>America\/New_York   <\/td><\/tr>\n",
       "\t<tr><td>1B9<\/td><td>Mansfield Municipal                 <\/td><td>42.00013<\/td><td> -71.19677<\/td><td> 122<\/td><td>-5<\/td><td>A<\/td><td>America\/New_York   <\/td><\/tr>\n",
       "\t<tr><td>1C9<\/td><td>Frazier Lake Airpark                <\/td><td>54.01333<\/td><td>-124.76833<\/td><td> 152<\/td><td>-8<\/td><td>A<\/td><td>America\/Vancouver  <\/td><\/tr>\n",
       "\t<tr><td>1CS<\/td><td>Clow International Airport          <\/td><td>41.69597<\/td><td> -88.12923<\/td><td> 670<\/td><td>-6<\/td><td>U<\/td><td>America\/Chicago    <\/td><\/tr>\n",
       "\t<tr><td>1G3<\/td><td>Kent State Airport                  <\/td><td>41.15139<\/td><td> -81.41511<\/td><td>1134<\/td><td>-5<\/td><td>A<\/td><td>America\/New_York   <\/td><\/tr>\n",
       "\t<tr><td>1G4<\/td><td>Grand Canyon West Airport           <\/td><td>35.89990<\/td><td>-113.81567<\/td><td>4813<\/td><td>-7<\/td><td>A<\/td><td>America\/Phoenix    <\/td><\/tr>\n",
       "\t<tr><td>1H2<\/td><td>Effingham Memorial Airport          <\/td><td>39.07000<\/td><td> -88.53400<\/td><td> 585<\/td><td>-6<\/td><td>A<\/td><td>America\/Chicago    <\/td><\/tr>\n",
       "\t<tr><td>1OH<\/td><td>Fortman Airport                     <\/td><td>40.55533<\/td><td> -84.38662<\/td><td> 885<\/td><td>-5<\/td><td>U<\/td><td>America\/New_York   <\/td><\/tr>\n",
       "\t<tr><td>1RL<\/td><td>Point Roberts Airpark               <\/td><td>48.97972<\/td><td>-123.07889<\/td><td>  10<\/td><td>-8<\/td><td>A<\/td><td>America\/Los_Angeles<\/td><\/tr>\n",
       "\t<tr><td>23M<\/td><td>Clarke CO                           <\/td><td>32.05170<\/td><td> -88.44340<\/td><td> 320<\/td><td>-6<\/td><td>A<\/td><td>America\/Chicago    <\/td><\/tr>\n",
       "\t<tr><td>24C<\/td><td>Lowell City Airport                 <\/td><td>42.95392<\/td><td> -85.34391<\/td><td> 681<\/td><td>-5<\/td><td>A<\/td><td>America\/New_York   <\/td><\/tr>\n",
       "\t<tr><td>24J<\/td><td>Suwannee County Airport             <\/td><td>30.30013<\/td><td> -83.02469<\/td><td> 104<\/td><td>-5<\/td><td>A<\/td><td>America\/New_York   <\/td><\/tr>\n",
       "\t<tr><td>25D<\/td><td>Forest Lake Airport                 <\/td><td>45.24775<\/td><td> -92.99439<\/td><td> 925<\/td><td>-6<\/td><td>A<\/td><td>America\/Chicago    <\/td><\/tr>\n",
       "\t<tr><td>29D<\/td><td>Grove City Airport                  <\/td><td>41.14603<\/td><td> -80.16775<\/td><td>1371<\/td><td>-5<\/td><td>A<\/td><td>America\/New_York   <\/td><\/tr>\n",
       "\t<tr><td>2A0<\/td><td>Mark Anton Airport                  <\/td><td>35.48625<\/td><td> -84.93108<\/td><td> 718<\/td><td>-5<\/td><td>A<\/td><td>America\/New_York   <\/td><\/tr>\n",
       "\t<tr><td>2B2<\/td><td>Plum Island Airport                 <\/td><td>42.79536<\/td><td> -70.83944<\/td><td>  11<\/td><td>-5<\/td><td>A<\/td><td>America\/New_York   <\/td><\/tr>\n",
       "\t<tr><td>⋮<\/td><td>⋮<\/td><td>⋮<\/td><td>⋮<\/td><td>⋮<\/td><td>⋮<\/td><td>⋮<\/td><td>⋮<\/td><\/tr>\n",
       "\t<tr><td>X59<\/td><td>Valkaria Municipal                  <\/td><td>27.96086<\/td><td> -80.55833<\/td><td>  26<\/td><td>-5<\/td><td>A<\/td><td>America\/New_York   <\/td><\/tr>\n",
       "\t<tr><td>XFL<\/td><td>Flagler County Airport              <\/td><td>29.28210<\/td><td> -81.12120<\/td><td>  33<\/td><td>-5<\/td><td>A<\/td><td>America\/New_York   <\/td><\/tr>\n",
       "\t<tr><td>XNA<\/td><td>NW Arkansas Regional                <\/td><td>36.28187<\/td><td> -94.30681<\/td><td>1287<\/td><td>-6<\/td><td>A<\/td><td>America\/Chicago    <\/td><\/tr>\n",
       "\t<tr><td>XZK<\/td><td>Amherst Amtrak Station AMM          <\/td><td>42.37500<\/td><td> -72.51139<\/td><td> 258<\/td><td>-5<\/td><td>A<\/td><td>America\/New_York   <\/td><\/tr>\n",
       "\t<tr><td>Y51<\/td><td>Municipal Airport                   <\/td><td>43.57936<\/td><td> -90.89647<\/td><td>1292<\/td><td>-6<\/td><td>A<\/td><td>America\/Chicago    <\/td><\/tr>\n",
       "\t<tr><td>Y72<\/td><td>Bloyer Field                        <\/td><td>43.97622<\/td><td> -90.48061<\/td><td> 966<\/td><td>-6<\/td><td>A<\/td><td>America\/Chicago    <\/td><\/tr>\n",
       "\t<tr><td>YAK<\/td><td>Yakutat                             <\/td><td>59.30120<\/td><td>-139.39370<\/td><td>  33<\/td><td>-9<\/td><td>A<\/td><td>NA                 <\/td><\/tr>\n",
       "\t<tr><td>YIP<\/td><td>Willow Run                          <\/td><td>42.23793<\/td><td> -83.53041<\/td><td> 716<\/td><td>-5<\/td><td>A<\/td><td>America\/New_York   <\/td><\/tr>\n",
       "\t<tr><td>YKM<\/td><td>Yakima Air Terminal McAllister Field<\/td><td>46.56820<\/td><td>-120.54400<\/td><td>1095<\/td><td>-8<\/td><td>A<\/td><td>America\/Los_Angeles<\/td><\/tr>\n",
       "\t<tr><td>YKN<\/td><td>Chan Gurney                         <\/td><td>42.87110<\/td><td> -97.39690<\/td><td>1200<\/td><td>-6<\/td><td>A<\/td><td>America\/Chicago    <\/td><\/tr>\n",
       "\t<tr><td>YNG<\/td><td>Youngstown Warren Rgnl              <\/td><td>41.26074<\/td><td> -80.67910<\/td><td>1196<\/td><td>-5<\/td><td>A<\/td><td>America\/New_York   <\/td><\/tr>\n",
       "\t<tr><td>YUM<\/td><td>Yuma Mcas Yuma Intl                 <\/td><td>32.65658<\/td><td>-114.60598<\/td><td> 216<\/td><td>-7<\/td><td>N<\/td><td>America\/Phoenix    <\/td><\/tr>\n",
       "\t<tr><td>Z84<\/td><td>Clear                               <\/td><td>64.30120<\/td><td>-149.12014<\/td><td> 552<\/td><td>-9<\/td><td>A<\/td><td>America\/Anchorage  <\/td><\/tr>\n",
       "\t<tr><td>ZBP<\/td><td>Penn Station                        <\/td><td>39.30722<\/td><td> -76.61556<\/td><td>  66<\/td><td>-5<\/td><td>A<\/td><td>America\/New_York   <\/td><\/tr>\n",
       "\t<tr><td>ZFV<\/td><td>Philadelphia 30th St Station        <\/td><td>39.95570<\/td><td> -75.18200<\/td><td>   0<\/td><td>-5<\/td><td>A<\/td><td>America\/New_York   <\/td><\/tr>\n",
       "\t<tr><td>ZPH<\/td><td>Municipal Airport                   <\/td><td>28.22806<\/td><td> -82.15583<\/td><td>  90<\/td><td>-5<\/td><td>A<\/td><td>America\/New_York   <\/td><\/tr>\n",
       "\t<tr><td>ZRA<\/td><td>Atlantic City Rail Terminal         <\/td><td>39.36650<\/td><td> -74.44200<\/td><td>   8<\/td><td>-5<\/td><td>A<\/td><td>America\/New_York   <\/td><\/tr>\n",
       "\t<tr><td>ZRD<\/td><td>Train Station                       <\/td><td>37.53430<\/td><td> -77.42945<\/td><td>  26<\/td><td>-5<\/td><td>A<\/td><td>America\/New_York   <\/td><\/tr>\n",
       "\t<tr><td>ZRP<\/td><td>Newark Penn Station                 <\/td><td>40.73472<\/td><td> -74.16417<\/td><td>   0<\/td><td>-5<\/td><td>A<\/td><td>America\/New_York   <\/td><\/tr>\n",
       "\t<tr><td>ZRT<\/td><td>Hartford Union Station              <\/td><td>41.76888<\/td><td> -72.68150<\/td><td>   0<\/td><td>-5<\/td><td>A<\/td><td>America\/New_York   <\/td><\/tr>\n",
       "\t<tr><td>ZRZ<\/td><td>New Carrollton Rail Station         <\/td><td>38.94800<\/td><td> -76.87190<\/td><td>  39<\/td><td>-5<\/td><td>A<\/td><td>America\/New_York   <\/td><\/tr>\n",
       "\t<tr><td>ZSF<\/td><td>Springfield Amtrak Station          <\/td><td>42.10600<\/td><td> -72.59305<\/td><td>  65<\/td><td>-5<\/td><td>A<\/td><td>America\/New_York   <\/td><\/tr>\n",
       "\t<tr><td>ZSY<\/td><td>Scottsdale Airport                  <\/td><td>33.62289<\/td><td>-111.91053<\/td><td>1519<\/td><td>-7<\/td><td>A<\/td><td>America\/Phoenix    <\/td><\/tr>\n",
       "\t<tr><td>ZTF<\/td><td>Stamford Amtrak Station             <\/td><td>41.04694<\/td><td> -73.54149<\/td><td>   0<\/td><td>-5<\/td><td>A<\/td><td>America\/New_York   <\/td><\/tr>\n",
       "\t<tr><td>ZTY<\/td><td>Boston Back Bay Station             <\/td><td>42.34780<\/td><td> -71.07500<\/td><td>  20<\/td><td>-5<\/td><td>A<\/td><td>America\/New_York   <\/td><\/tr>\n",
       "\t<tr><td>ZUN<\/td><td>Black Rock                          <\/td><td>35.08323<\/td><td>-108.79178<\/td><td>6454<\/td><td>-7<\/td><td>A<\/td><td>America\/Denver     <\/td><\/tr>\n",
       "\t<tr><td>ZVE<\/td><td>New Haven Rail Station              <\/td><td>41.29867<\/td><td> -72.92599<\/td><td>   7<\/td><td>-5<\/td><td>A<\/td><td>America\/New_York   <\/td><\/tr>\n",
       "\t<tr><td>ZWI<\/td><td>Wilmington Amtrak Station           <\/td><td>39.73667<\/td><td> -75.55167<\/td><td>   0<\/td><td>-5<\/td><td>A<\/td><td>America\/New_York   <\/td><\/tr>\n",
       "\t<tr><td>ZWU<\/td><td>Washington Union Station            <\/td><td>38.89746<\/td><td> -77.00643<\/td><td>  76<\/td><td>-5<\/td><td>A<\/td><td>America\/New_York   <\/td><\/tr>\n",
       "\t<tr><td>ZYP<\/td><td>Penn Station                        <\/td><td>40.75050<\/td><td> -73.99350<\/td><td>  35<\/td><td>-5<\/td><td>A<\/td><td>America\/New_York   <\/td><\/tr>\n",
       "<\/tbody>\n",
       "<\/table>\n"
      ]
     },
     "metadata":{
      
     },
     "output_type":"display_data"
    }
   ],
   "metadata":{
    "datalore":{
     "node_id":"4Lss9dwr1cdw8U336WYd0S",
     "type":"CODE",
     "hide_input_from_viewers":false,
     "hide_output_from_viewers":false
    }
   }
  },
  {
   "cell_type":"code",
   "source":[
    "flights %>%\n",
    "    inner_join(temp_airlines,by = \"carrier\") %>%             # Join Airlines table for full airline names\n",
    "    inner_join(temp_airports,by = c('dest'='faa')) %>%                # Join Airports table for full airport names\n",
    "    group_by(airline_name, airport_name) %>%                 # Group results into airline names\n",
    "    select(airline_name,airport_name) %>%                    # Show only carrier and name column\n",
    "    summarise (flight_count = n()) %>%                       # Count flight in each airline\n",
    "    arrange(desc(flight_count,airport_name,airline_name))    # Sort data by count"
   ],
   "execution_count":126,
   "outputs":[
    {
     "name":"stderr",
     "text":[
      "`summarise()` has grouped output by 'airline_name'. You can override using the `.groups` argument.\n",
      "\n"
     ],
     "output_type":"stream"
    },
    {
     "data":{
      "text\/html":[
       "<table class=\"dataframe\">\n",
       "<caption>A grouped_df: 304 × 3<\/caption>\n",
       "<thead>\n",
       "\t<tr><th scope=col>airline_name<\/th><th scope=col>airport_name<\/th><th scope=col>flight_count<\/th><\/tr>\n",
       "\t<tr><th scope=col>&lt;chr&gt;<\/th><th scope=col>&lt;chr&gt;<\/th><th scope=col>&lt;int&gt;<\/th><\/tr>\n",
       "<\/thead>\n",
       "<tbody>\n",
       "\t<tr><td>Delta Air Lines Inc.    <\/td><td>Hartsfield Jackson Atlanta Intl   <\/td><td>10571<\/td><\/tr>\n",
       "\t<tr><td>US Airways Inc.         <\/td><td>Charlotte Douglas Intl            <\/td><td> 8632<\/td><\/tr>\n",
       "\t<tr><td>American Airlines Inc.  <\/td><td>Dallas Fort Worth Intl            <\/td><td> 7257<\/td><\/tr>\n",
       "\t<tr><td>American Airlines Inc.  <\/td><td>Miami Intl                        <\/td><td> 7234<\/td><\/tr>\n",
       "\t<tr><td>United Air Lines Inc.   <\/td><td>Chicago Ohare Intl                <\/td><td> 6984<\/td><\/tr>\n",
       "\t<tr><td>United Air Lines Inc.   <\/td><td>George Bush Intercontinental      <\/td><td> 6924<\/td><\/tr>\n",
       "\t<tr><td>United Air Lines Inc.   <\/td><td>San Francisco Intl                <\/td><td> 6819<\/td><\/tr>\n",
       "\t<tr><td>JetBlue Airways         <\/td><td>Fort Lauderdale Hollywood Intl    <\/td><td> 6563<\/td><\/tr>\n",
       "\t<tr><td>JetBlue Airways         <\/td><td>Orlando Intl                      <\/td><td> 6472<\/td><\/tr>\n",
       "\t<tr><td>American Airlines Inc.  <\/td><td>Chicago Ohare Intl                <\/td><td> 6059<\/td><\/tr>\n",
       "\t<tr><td>United Air Lines Inc.   <\/td><td>Los Angeles Intl                  <\/td><td> 5823<\/td><\/tr>\n",
       "\t<tr><td>Envoy Air               <\/td><td>Raleigh Durham Intl               <\/td><td> 4794<\/td><\/tr>\n",
       "\t<tr><td>US Airways Inc.         <\/td><td>Ronald Reagan Washington Natl     <\/td><td> 4716<\/td><\/tr>\n",
       "\t<tr><td>JetBlue Airways         <\/td><td>General Edward Lawrence Logan Intl<\/td><td> 4383<\/td><\/tr>\n",
       "\t<tr><td>US Airways Inc.         <\/td><td>General Edward Lawrence Logan Intl<\/td><td> 4283<\/td><\/tr>\n",
       "\t<tr><td>Southwest Airlines Co.  <\/td><td>Chicago Midway Intl               <\/td><td> 4113<\/td><\/tr>\n",
       "\t<tr><td>ExpressJet Airlines Inc.<\/td><td>Washington Dulles Intl            <\/td><td> 4048<\/td><\/tr>\n",
       "\t<tr><td>Delta Air Lines Inc.    <\/td><td>Detroit Metro Wayne Co            <\/td><td> 3875<\/td><\/tr>\n",
       "\t<tr><td>United Air Lines Inc.   <\/td><td>Denver Intl                       <\/td><td> 3796<\/td><\/tr>\n",
       "\t<tr><td>Delta Air Lines Inc.    <\/td><td>Orlando Intl                      <\/td><td> 3663<\/td><\/tr>\n",
       "\t<tr><td>American Airlines Inc.  <\/td><td>Los Angeles Intl                  <\/td><td> 3582<\/td><\/tr>\n",
       "\t<tr><td>United Air Lines Inc.   <\/td><td>General Edward Lawrence Logan Intl<\/td><td> 3342<\/td><\/tr>\n",
       "\t<tr><td>United Air Lines Inc.   <\/td><td>Orlando Intl                      <\/td><td> 3217<\/td><\/tr>\n",
       "\t<tr><td>JetBlue Airways         <\/td><td>Palm Beach Intl                   <\/td><td> 3161<\/td><\/tr>\n",
       "\t<tr><td>Delta Air Lines Inc.    <\/td><td>Miami Intl                        <\/td><td> 2929<\/td><\/tr>\n",
       "\t<tr><td>Delta Air Lines Inc.    <\/td><td>Fort Lauderdale Hollywood Intl    <\/td><td> 2903<\/td><\/tr>\n",
       "\t<tr><td>Delta Air Lines Inc.    <\/td><td>Minneapolis St Paul Intl          <\/td><td> 2864<\/td><\/tr>\n",
       "\t<tr><td>JetBlue Airways         <\/td><td>Buffalo Niagara Intl              <\/td><td> 2803<\/td><\/tr>\n",
       "\t<tr><td>JetBlue Airways         <\/td><td>Tampa Intl                        <\/td><td> 2800<\/td><\/tr>\n",
       "\t<tr><td>Envoy Air               <\/td><td>Port Columbus Intl                <\/td><td> 2691<\/td><\/tr>\n",
       "\t<tr><td>⋮<\/td><td>⋮<\/td><td>⋮<\/td><\/tr>\n",
       "\t<tr><td>Delta Air Lines Inc.    <\/td><td>Jackson Hole Airport         <\/td><td>2<\/td><\/tr>\n",
       "\t<tr><td>Delta Air Lines Inc.    <\/td><td>Philadelphia Intl            <\/td><td>2<\/td><\/tr>\n",
       "\t<tr><td>Delta Air Lines Inc.    <\/td><td>Ronald Reagan Washington Natl<\/td><td>2<\/td><\/tr>\n",
       "\t<tr><td>Endeavor Air Inc.       <\/td><td>Austin Bergstrom Intl        <\/td><td>2<\/td><\/tr>\n",
       "\t<tr><td>Endeavor Air Inc.       <\/td><td>Burlington Intl              <\/td><td>2<\/td><\/tr>\n",
       "\t<tr><td>ExpressJet Airlines Inc.<\/td><td>Chicago Ohare Intl           <\/td><td>2<\/td><\/tr>\n",
       "\t<tr><td>SkyWest Airlines Inc.   <\/td><td>Detroit Metro Wayne Co       <\/td><td>2<\/td><\/tr>\n",
       "\t<tr><td>United Air Lines Inc.   <\/td><td>Charlotte Douglas Intl       <\/td><td>2<\/td><\/tr>\n",
       "\t<tr><td>United Air Lines Inc.   <\/td><td>Eppley Afld                  <\/td><td>2<\/td><\/tr>\n",
       "\t<tr><td>United Air Lines Inc.   <\/td><td>Lambert St Louis Intl        <\/td><td>2<\/td><\/tr>\n",
       "\t<tr><td>United Air Lines Inc.   <\/td><td>Minneapolis St Paul Intl     <\/td><td>2<\/td><\/tr>\n",
       "\t<tr><td>United Air Lines Inc.   <\/td><td>Pittsburgh Intl              <\/td><td>2<\/td><\/tr>\n",
       "\t<tr><td>United Air Lines Inc.   <\/td><td>Ronald Reagan Washington Natl<\/td><td>2<\/td><\/tr>\n",
       "\t<tr><td>Delta Air Lines Inc.    <\/td><td>Eppley Afld                  <\/td><td>1<\/td><\/tr>\n",
       "\t<tr><td>Delta Air Lines Inc.    <\/td><td>Jacksonville Intl            <\/td><td>1<\/td><\/tr>\n",
       "\t<tr><td>Delta Air Lines Inc.    <\/td><td>Lambert St Louis Intl        <\/td><td>1<\/td><\/tr>\n",
       "\t<tr><td>Delta Air Lines Inc.    <\/td><td>Nashville Intl               <\/td><td>1<\/td><\/tr>\n",
       "\t<tr><td>Endeavor Air Inc.       <\/td><td>Bangor Intl                  <\/td><td>1<\/td><\/tr>\n",
       "\t<tr><td>Endeavor Air Inc.       <\/td><td>Blue Grass                   <\/td><td>1<\/td><\/tr>\n",
       "\t<tr><td>Endeavor Air Inc.       <\/td><td>Dane Co Rgnl Truax Fld       <\/td><td>1<\/td><\/tr>\n",
       "\t<tr><td>Endeavor Air Inc.       <\/td><td>Piedmont Triad               <\/td><td>1<\/td><\/tr>\n",
       "\t<tr><td>ExpressJet Airlines Inc.<\/td><td>Tampa Intl                   <\/td><td>1<\/td><\/tr>\n",
       "\t<tr><td>SkyWest Airlines Inc.   <\/td><td>Chicago Ohare Intl           <\/td><td>1<\/td><\/tr>\n",
       "\t<tr><td>SkyWest Airlines Inc.   <\/td><td>Washington Dulles Intl       <\/td><td>1<\/td><\/tr>\n",
       "\t<tr><td>United Air Lines Inc.   <\/td><td>Charleston Afb Intl          <\/td><td>1<\/td><\/tr>\n",
       "\t<tr><td>United Air Lines Inc.   <\/td><td>Detroit Metro Wayne Co       <\/td><td>1<\/td><\/tr>\n",
       "\t<tr><td>United Air Lines Inc.   <\/td><td>Raleigh Durham Intl          <\/td><td>1<\/td><\/tr>\n",
       "\t<tr><td>United Air Lines Inc.   <\/td><td>Washington Dulles Intl       <\/td><td>1<\/td><\/tr>\n",
       "\t<tr><td>US Airways Inc.         <\/td><td>La Guardia                   <\/td><td>1<\/td><\/tr>\n",
       "\t<tr><td>Virgin America          <\/td><td>Norman Y Mineta San Jose Intl<\/td><td>1<\/td><\/tr>\n",
       "<\/tbody>\n",
       "<\/table>\n"
      ]
     },
     "metadata":{
      
     },
     "output_type":"display_data"
    }
   ],
   "metadata":{
    "datalore":{
     "node_id":"316gmddYvV9xOVbYmCyICL",
     "type":"CODE",
     "hide_input_from_viewers":false,
     "hide_output_from_viewers":false
    }
   }
  },
  {
   "cell_type":"markdown",
   "source":[
    "# Q3: Which plane model causes least delay"
   ],
   "attachments":{
    
   },
   "metadata":{
    "datalore":{
     "node_id":"hLDVImxLcYlBokWDtyRqAz",
     "type":"MD",
     "hide_input_from_viewers":false,
     "hide_output_from_viewers":false
    }
   }
  },
  {
   "cell_type":"markdown",
   "source":[
    "For more accuracy, departure delay should be considered as one of the causes of delay which might not be caused by plane models. Arrival delay should be minus by departure delay to make to more accurate."
   ],
   "attachments":{
    
   },
   "metadata":{
    "datalore":{
     "node_id":"CerCKNsfpsRk6KFxitzBOz",
     "type":"MD",
     "hide_input_from_viewers":false,
     "hide_output_from_viewers":false
    }
   }
  },
  {
   "cell_type":"code",
   "source":[
    "act_delay_flights <-flights %>%\n",
    "                    select(tailnum,dep_delay,arr_delay)%>%\n",
    "                    summarise(  tailnum,\n",
    "                                dep_delay,\n",
    "                                arr_delay,\n",
    "                                actual_delay = arr_delay - dep_delay)\n",
    "act_delay_flights"
   ],
   "execution_count":16,
   "outputs":[
    {
     "data":{
      "text\/html":[
       "<table class=\"dataframe\">\n",
       "<caption>A tibble: 336776 × 4<\/caption>\n",
       "<thead>\n",
       "\t<tr><th scope=col>tailnum<\/th><th scope=col>dep_delay<\/th><th scope=col>arr_delay<\/th><th scope=col>actual_delay<\/th><\/tr>\n",
       "\t<tr><th scope=col>&lt;chr&gt;<\/th><th scope=col>&lt;dbl&gt;<\/th><th scope=col>&lt;dbl&gt;<\/th><th scope=col>&lt;dbl&gt;<\/th><\/tr>\n",
       "<\/thead>\n",
       "<tbody>\n",
       "\t<tr><td>N14228<\/td><td> 2<\/td><td> 11<\/td><td>  9<\/td><\/tr>\n",
       "\t<tr><td>N24211<\/td><td> 4<\/td><td> 20<\/td><td> 16<\/td><\/tr>\n",
       "\t<tr><td>N619AA<\/td><td> 2<\/td><td> 33<\/td><td> 31<\/td><\/tr>\n",
       "\t<tr><td>N804JB<\/td><td>-1<\/td><td>-18<\/td><td>-17<\/td><\/tr>\n",
       "\t<tr><td>N668DN<\/td><td>-6<\/td><td>-25<\/td><td>-19<\/td><\/tr>\n",
       "\t<tr><td>N39463<\/td><td>-4<\/td><td> 12<\/td><td> 16<\/td><\/tr>\n",
       "\t<tr><td>N516JB<\/td><td>-5<\/td><td> 19<\/td><td> 24<\/td><\/tr>\n",
       "\t<tr><td>N829AS<\/td><td>-3<\/td><td>-14<\/td><td>-11<\/td><\/tr>\n",
       "\t<tr><td>N593JB<\/td><td>-3<\/td><td> -8<\/td><td> -5<\/td><\/tr>\n",
       "\t<tr><td>N3ALAA<\/td><td>-2<\/td><td>  8<\/td><td> 10<\/td><\/tr>\n",
       "\t<tr><td>N793JB<\/td><td>-2<\/td><td> -2<\/td><td>  0<\/td><\/tr>\n",
       "\t<tr><td>N657JB<\/td><td>-2<\/td><td> -3<\/td><td> -1<\/td><\/tr>\n",
       "\t<tr><td>N29129<\/td><td>-2<\/td><td>  7<\/td><td>  9<\/td><\/tr>\n",
       "\t<tr><td>N53441<\/td><td>-2<\/td><td>-14<\/td><td>-12<\/td><\/tr>\n",
       "\t<tr><td>N3DUAA<\/td><td>-1<\/td><td> 31<\/td><td> 32<\/td><\/tr>\n",
       "\t<tr><td>N708JB<\/td><td> 0<\/td><td> -4<\/td><td> -4<\/td><\/tr>\n",
       "\t<tr><td>N76515<\/td><td>-1<\/td><td> -8<\/td><td> -7<\/td><\/tr>\n",
       "\t<tr><td>N595JB<\/td><td> 0<\/td><td> -7<\/td><td> -7<\/td><\/tr>\n",
       "\t<tr><td>N542MQ<\/td><td> 0<\/td><td> 12<\/td><td> 12<\/td><\/tr>\n",
       "\t<tr><td>N644JB<\/td><td> 1<\/td><td> -6<\/td><td> -7<\/td><\/tr>\n",
       "\t<tr><td>N971DL<\/td><td>-8<\/td><td> -8<\/td><td>  0<\/td><\/tr>\n",
       "\t<tr><td>N730MQ<\/td><td>-3<\/td><td> 16<\/td><td> 19<\/td><\/tr>\n",
       "\t<tr><td>N633AA<\/td><td>-4<\/td><td>-12<\/td><td> -8<\/td><\/tr>\n",
       "\t<tr><td>N3739P<\/td><td>-4<\/td><td> -8<\/td><td> -4<\/td><\/tr>\n",
       "\t<tr><td>N53442<\/td><td> 0<\/td><td>-17<\/td><td>-17<\/td><\/tr>\n",
       "\t<tr><td>N9EAMQ<\/td><td> 8<\/td><td> 32<\/td><td> 24<\/td><\/tr>\n",
       "\t<tr><td>N532UA<\/td><td>11<\/td><td> 14<\/td><td>  3<\/td><\/tr>\n",
       "\t<tr><td>N635JB<\/td><td> 3<\/td><td>  4<\/td><td>  1<\/td><\/tr>\n",
       "\t<tr><td>N794JB<\/td><td> 0<\/td><td>-21<\/td><td>-21<\/td><\/tr>\n",
       "\t<tr><td>N326NB<\/td><td> 0<\/td><td> -9<\/td><td> -9<\/td><\/tr>\n",
       "\t<tr><td>⋮<\/td><td>⋮<\/td><td>⋮<\/td><td>⋮<\/td><\/tr>\n",
       "\t<tr><td>N712EV<\/td><td> -2<\/td><td>-24<\/td><td>-22<\/td><\/tr>\n",
       "\t<tr><td>N16546<\/td><td> -2<\/td><td> -9<\/td><td> -7<\/td><\/tr>\n",
       "\t<tr><td>N807JB<\/td><td> -2<\/td><td>-31<\/td><td>-29<\/td><\/tr>\n",
       "\t<tr><td>N751EV<\/td><td> 30<\/td><td> -2<\/td><td>-32<\/td><\/tr>\n",
       "\t<tr><td>N807MQ<\/td><td> -9<\/td><td>-30<\/td><td>-21<\/td><\/tr>\n",
       "\t<tr><td>N335AA<\/td><td>  0<\/td><td>-30<\/td><td>-30<\/td><\/tr>\n",
       "\t<tr><td>N12957<\/td><td> 13<\/td><td> 11<\/td><td> -2<\/td><\/tr>\n",
       "\t<tr><td>N633JB<\/td><td>  0<\/td><td>-25<\/td><td>-25<\/td><\/tr>\n",
       "\t<tr><td>N627JB<\/td><td> 10<\/td><td>  3<\/td><td> -7<\/td><\/tr>\n",
       "\t<tr><td>N813UA<\/td><td> -7<\/td><td>-23<\/td><td>-16<\/td><\/tr>\n",
       "\t<tr><td>N10575<\/td><td> -9<\/td><td>-16<\/td><td> -7<\/td><\/tr>\n",
       "\t<tr><td>N906XJ<\/td><td>194<\/td><td>194<\/td><td>  0<\/td><\/tr>\n",
       "\t<tr><td>N722EV<\/td><td> -2<\/td><td>  8<\/td><td> 10<\/td><\/tr>\n",
       "\t<tr><td>N532MQ<\/td><td> 27<\/td><td>  7<\/td><td>-20<\/td><\/tr>\n",
       "\t<tr><td>N12145<\/td><td> 72<\/td><td> 57<\/td><td>-15<\/td><\/tr>\n",
       "\t<tr><td>N193JB<\/td><td>-14<\/td><td>-21<\/td><td> -7<\/td><\/tr>\n",
       "\t<tr><td>N578UA<\/td><td> 80<\/td><td> 42<\/td><td>-38<\/td><\/tr>\n",
       "\t<tr><td>N804JB<\/td><td>154<\/td><td>130<\/td><td>-24<\/td><\/tr>\n",
       "\t<tr><td>N318JB<\/td><td> -8<\/td><td> -8<\/td><td>  0<\/td><\/tr>\n",
       "\t<tr><td>N354JB<\/td><td> -5<\/td><td>-17<\/td><td>-12<\/td><\/tr>\n",
       "\t<tr><td>N281JB<\/td><td>-10<\/td><td>-20<\/td><td>-10<\/td><\/tr>\n",
       "\t<tr><td>N346JB<\/td><td> -5<\/td><td>-16<\/td><td>-11<\/td><\/tr>\n",
       "\t<tr><td>N565JB<\/td><td> 12<\/td><td>  1<\/td><td>-11<\/td><\/tr>\n",
       "\t<tr><td>N516JB<\/td><td>-10<\/td><td>-25<\/td><td>-15<\/td><\/tr>\n",
       "\t<tr><td>N740EV<\/td><td> NA<\/td><td> NA<\/td><td> NA<\/td><\/tr>\n",
       "\t<tr><td>NA    <\/td><td> NA<\/td><td> NA<\/td><td> NA<\/td><\/tr>\n",
       "\t<tr><td>NA    <\/td><td> NA<\/td><td> NA<\/td><td> NA<\/td><\/tr>\n",
       "\t<tr><td>N535MQ<\/td><td> NA<\/td><td> NA<\/td><td> NA<\/td><\/tr>\n",
       "\t<tr><td>N511MQ<\/td><td> NA<\/td><td> NA<\/td><td> NA<\/td><\/tr>\n",
       "\t<tr><td>N839MQ<\/td><td> NA<\/td><td> NA<\/td><td> NA<\/td><\/tr>\n",
       "<\/tbody>\n",
       "<\/table>\n"
      ]
     },
     "metadata":{
      
     },
     "output_type":"display_data"
    }
   ],
   "metadata":{
    "datalore":{
     "node_id":"gjiFYlxh5ZhcGr9qumDUvb",
     "type":"CODE",
     "hide_input_from_viewers":false,
     "hide_output_from_viewers":false
    }
   }
  },
  {
   "cell_type":"code",
   "source":[
    "act_delay_flights %>%\n",
    "    inner_join (planes, by = \"tailnum\") %>%\n",
    "    group_by (model) %>%\n",
    "    summarise(mean_delay = mean(actual_delay)) %>%\n",
    "    arrange(,mean_delay)"
   ],
   "execution_count":82,
   "outputs":[
    {
     "data":{
      "text\/html":[
       "<table class=\"dataframe\">\n",
       "<caption>A tibble: 127 × 2<\/caption>\n",
       "<thead>\n",
       "\t<tr><th scope=col>model<\/th><th scope=col>mean_delay<\/th><\/tr>\n",
       "\t<tr><th scope=col>&lt;chr&gt;<\/th><th scope=col>&lt;dbl&gt;<\/th><\/tr>\n",
       "<\/thead>\n",
       "<tbody>\n",
       "\t<tr><td>757-212           <\/td><td>-28.000000<\/td><\/tr>\n",
       "\t<tr><td>767-201           <\/td><td>-24.000000<\/td><\/tr>\n",
       "\t<tr><td>777-222           <\/td><td>-20.000000<\/td><\/tr>\n",
       "\t<tr><td>737-3A4           <\/td><td>-19.000000<\/td><\/tr>\n",
       "\t<tr><td>A330-323          <\/td><td>-19.000000<\/td><\/tr>\n",
       "\t<tr><td>A330-223          <\/td><td>-16.750000<\/td><\/tr>\n",
       "\t<tr><td>737-8FH           <\/td><td>-15.437500<\/td><\/tr>\n",
       "\t<tr><td>737-990           <\/td><td>-14.000000<\/td><\/tr>\n",
       "\t<tr><td>737-524           <\/td><td>-12.250000<\/td><\/tr>\n",
       "\t<tr><td>747-451           <\/td><td>-12.000000<\/td><\/tr>\n",
       "\t<tr><td>A330-243          <\/td><td>-11.815789<\/td><\/tr>\n",
       "\t<tr><td>737-7AD           <\/td><td>-10.263158<\/td><\/tr>\n",
       "\t<tr><td>757-351           <\/td><td>-10.250000<\/td><\/tr>\n",
       "\t<tr><td>777-224           <\/td><td> -9.500000<\/td><\/tr>\n",
       "\t<tr><td>737-5H4           <\/td><td> -8.484848<\/td><\/tr>\n",
       "\t<tr><td>310Q              <\/td><td> -8.409091<\/td><\/tr>\n",
       "\t<tr><td>737-401           <\/td><td> -8.035714<\/td><\/tr>\n",
       "\t<tr><td>737-3TO           <\/td><td> -7.600000<\/td><\/tr>\n",
       "\t<tr><td>A319-132          <\/td><td> -7.512195<\/td><\/tr>\n",
       "\t<tr><td>757-2B7           <\/td><td> -7.500000<\/td><\/tr>\n",
       "\t<tr><td>737-3Q8           <\/td><td> -6.750000<\/td><\/tr>\n",
       "\t<tr><td>767-3P6           <\/td><td> -6.551724<\/td><\/tr>\n",
       "\t<tr><td>65-A90            <\/td><td> -6.227273<\/td><\/tr>\n",
       "\t<tr><td>757-26D           <\/td><td> -5.969231<\/td><\/tr>\n",
       "\t<tr><td>DC-9-51           <\/td><td> -5.274725<\/td><\/tr>\n",
       "\t<tr><td>787-8             <\/td><td> -5.000000<\/td><\/tr>\n",
       "\t<tr><td>757-33N           <\/td><td> -4.969925<\/td><\/tr>\n",
       "\t<tr><td>737-3L9           <\/td><td> -4.428571<\/td><\/tr>\n",
       "\t<tr><td>737-4B7           <\/td><td> -4.252252<\/td><\/tr>\n",
       "\t<tr><td>MYSTERE FALCON 900<\/td><td> -4.250000<\/td><\/tr>\n",
       "\t<tr><td>⋮<\/td><td>⋮<\/td><\/tr>\n",
       "\t<tr><td>A321-231         <\/td><td>NA<\/td><\/tr>\n",
       "\t<tr><td>A340-313         <\/td><td>NA<\/td><\/tr>\n",
       "\t<tr><td>CF-5D            <\/td><td>NA<\/td><\/tr>\n",
       "\t<tr><td>CL-600-2B19      <\/td><td>NA<\/td><\/tr>\n",
       "\t<tr><td>CL-600-2C10      <\/td><td>NA<\/td><\/tr>\n",
       "\t<tr><td>CL-600-2D24      <\/td><td>NA<\/td><\/tr>\n",
       "\t<tr><td>DC-9-82(MD-82)   <\/td><td>NA<\/td><\/tr>\n",
       "\t<tr><td>DC-9-83(MD-83)   <\/td><td>NA<\/td><\/tr>\n",
       "\t<tr><td>E-90             <\/td><td>NA<\/td><\/tr>\n",
       "\t<tr><td>EMB-145          <\/td><td>NA<\/td><\/tr>\n",
       "\t<tr><td>EMB-145LR        <\/td><td>NA<\/td><\/tr>\n",
       "\t<tr><td>EMB-145XR        <\/td><td>NA<\/td><\/tr>\n",
       "\t<tr><td>ERJ 190-100 IGW  <\/td><td>NA<\/td><\/tr>\n",
       "\t<tr><td>FALCON XP        <\/td><td>NA<\/td><\/tr>\n",
       "\t<tr><td>FALCON-XP        <\/td><td>NA<\/td><\/tr>\n",
       "\t<tr><td>G-IV             <\/td><td>NA<\/td><\/tr>\n",
       "\t<tr><td>G1159B           <\/td><td>NA<\/td><\/tr>\n",
       "\t<tr><td>KITFOX IV        <\/td><td>NA<\/td><\/tr>\n",
       "\t<tr><td>MD-88            <\/td><td>NA<\/td><\/tr>\n",
       "\t<tr><td>MD-90-30         <\/td><td>NA<\/td><\/tr>\n",
       "\t<tr><td>OTTER DHC-3      <\/td><td>NA<\/td><\/tr>\n",
       "\t<tr><td>PA-28-180        <\/td><td>NA<\/td><\/tr>\n",
       "\t<tr><td>PA-31-350        <\/td><td>NA<\/td><\/tr>\n",
       "\t<tr><td>PA-32R-300       <\/td><td>NA<\/td><\/tr>\n",
       "\t<tr><td>PA-32RT-300      <\/td><td>NA<\/td><\/tr>\n",
       "\t<tr><td>R66              <\/td><td>NA<\/td><\/tr>\n",
       "\t<tr><td>S-76A            <\/td><td>NA<\/td><\/tr>\n",
       "\t<tr><td>SR22             <\/td><td>NA<\/td><\/tr>\n",
       "\t<tr><td>VANS AIRCRAFT RV6<\/td><td>NA<\/td><\/tr>\n",
       "\t<tr><td>ZODIAC 601HDS    <\/td><td>NA<\/td><\/tr>\n",
       "<\/tbody>\n",
       "<\/table>\n"
      ]
     },
     "metadata":{
      
     },
     "output_type":"display_data"
    }
   ],
   "metadata":{
    "datalore":{
     "node_id":"YMFrKnoQUPHzXTHPo1O1zi",
     "type":"CODE",
     "hide_input_from_viewers":false,
     "hide_output_from_viewers":false
    }
   }
  },
  {
   "cell_type":"markdown",
   "source":[
    "# Q4: Does plane size affect depature delay?"
   ],
   "attachments":{
    
   },
   "metadata":{
    "datalore":{
     "node_id":"wRekENrhoTUbKDzRwJ6eZP",
     "type":"MD",
     "hide_input_from_viewers":false,
     "hide_output_from_viewers":false
    }
   }
  },
  {
   "cell_type":"markdown",
   "source":[
    "The larger plane takes a longer time to load passengers than the smaller one. This analysis will answer how much effect of it. We will use two tables of the dataset which are Flights and Planes that are linked by tailnum column. We consider the relationship between Flights' dep_delay column and Planes' seats column. Then we will see the relationship between it. However, some rows have no data in delay (NA), we must drop NA row first."
   ],
   "attachments":{
    
   },
   "metadata":{
    "datalore":{
     "node_id":"REYRviNUkCGa1hIpyql7pf",
     "type":"MD",
     "hide_input_from_viewers":false,
     "hide_output_from_viewers":false
    }
   }
  },
  {
   "cell_type":"code",
   "source":[
    "flights %>%\n",
    "    inner_join(planes,by = \"tailnum\") %>%\n",
    "    drop_na(dep_delay)%>%\n",
    "    select (model,seats,dep_delay) %>%\n",
    "    group_by(model,seats)%>%\n",
    "    summarise(mean_dep_delay = mean(dep_delay))%>%\n",
    "    arrange(mean_dep_delay)"
   ],
   "execution_count":98,
   "outputs":[
    {
     "name":"stderr",
     "text":[
      "`summarise()` has grouped output by 'model'. You can override using the `.groups` argument.\n",
      "\n"
     ],
     "output_type":"stream"
    },
    {
     "data":{
      "text\/html":[
       "<table class=\"dataframe\">\n",
       "<caption>A grouped_df: 128 × 3<\/caption>\n",
       "<thead>\n",
       "\t<tr><th scope=col>model<\/th><th scope=col>seats<\/th><th scope=col>mean_dep_delay<\/th><\/tr>\n",
       "\t<tr><th scope=col>&lt;chr&gt;<\/th><th scope=col>&lt;int&gt;<\/th><th scope=col>&lt;dbl&gt;<\/th><\/tr>\n",
       "<\/thead>\n",
       "<tbody>\n",
       "\t<tr><td>MYSTERE FALCON 900<\/td><td> 12<\/td><td>-6.0000000<\/td><\/tr>\n",
       "\t<tr><td>737-8FH           <\/td><td>149<\/td><td>-4.3125000<\/td><\/tr>\n",
       "\t<tr><td>737-524           <\/td><td>149<\/td><td>-4.0000000<\/td><\/tr>\n",
       "\t<tr><td>737-3A4           <\/td><td>149<\/td><td>-3.0000000<\/td><\/tr>\n",
       "\t<tr><td>AT-5              <\/td><td>  2<\/td><td>-2.6666667<\/td><\/tr>\n",
       "\t<tr><td>737-317           <\/td><td>149<\/td><td>-2.5000000<\/td><\/tr>\n",
       "\t<tr><td>767-324           <\/td><td>269<\/td><td>-2.5000000<\/td><\/tr>\n",
       "\t<tr><td>737-3T5           <\/td><td>149<\/td><td>-2.0000000<\/td><\/tr>\n",
       "\t<tr><td>777-232           <\/td><td>400<\/td><td>-2.0000000<\/td><\/tr>\n",
       "\t<tr><td>A330-323          <\/td><td>379<\/td><td> 0.0000000<\/td><\/tr>\n",
       "\t<tr><td>757-26D           <\/td><td>178<\/td><td> 0.1538462<\/td><\/tr>\n",
       "\t<tr><td>787-8             <\/td><td>260<\/td><td> 0.5000000<\/td><\/tr>\n",
       "\t<tr><td>737-401           <\/td><td>149<\/td><td> 1.3928571<\/td><\/tr>\n",
       "\t<tr><td>FALCON-XP         <\/td><td>  2<\/td><td> 2.3100000<\/td><\/tr>\n",
       "\t<tr><td>737-4B7           <\/td><td>149<\/td><td> 2.6846847<\/td><\/tr>\n",
       "\t<tr><td>172N              <\/td><td>  4<\/td><td> 2.7712418<\/td><\/tr>\n",
       "\t<tr><td>737-3Y0           <\/td><td>149<\/td><td> 3.5714286<\/td><\/tr>\n",
       "\t<tr><td>60                <\/td><td> 11<\/td><td> 3.6315789<\/td><\/tr>\n",
       "\t<tr><td>737-890           <\/td><td>149<\/td><td> 3.6782609<\/td><\/tr>\n",
       "\t<tr><td>OTTER DHC-3       <\/td><td> 16<\/td><td> 3.7213115<\/td><\/tr>\n",
       "\t<tr><td>757-2B7           <\/td><td>178<\/td><td> 4.0000000<\/td><\/tr>\n",
       "\t<tr><td>A319-112          <\/td><td>179<\/td><td> 4.0371321<\/td><\/tr>\n",
       "\t<tr><td>KITFOX IV         <\/td><td>  2<\/td><td> 4.1707317<\/td><\/tr>\n",
       "\t<tr><td>757-212           <\/td><td>178<\/td><td> 4.5000000<\/td><\/tr>\n",
       "\t<tr><td>210-5(205)        <\/td><td>  6<\/td><td> 4.5263158<\/td><\/tr>\n",
       "\t<tr><td>757-231           <\/td><td>178<\/td><td> 4.7046414<\/td><\/tr>\n",
       "\t<tr><td>A330-243          <\/td><td>377<\/td><td> 4.9005848<\/td><\/tr>\n",
       "\t<tr><td>737-301           <\/td><td>149<\/td><td> 5.0000000<\/td><\/tr>\n",
       "\t<tr><td>A321-211          <\/td><td>199<\/td><td> 5.0667769<\/td><\/tr>\n",
       "\t<tr><td>PA-31-350         <\/td><td>  8<\/td><td> 5.2363636<\/td><\/tr>\n",
       "\t<tr><td>⋮<\/td><td>⋮<\/td><td>⋮<\/td><\/tr>\n",
       "\t<tr><td>CL-600-2D24      <\/td><td> 95<\/td><td> 18.90750<\/td><\/tr>\n",
       "\t<tr><td>777-200          <\/td><td>400<\/td><td> 18.94118<\/td><\/tr>\n",
       "\t<tr><td>737-3Q8          <\/td><td>149<\/td><td> 19.10000<\/td><\/tr>\n",
       "\t<tr><td>CL-600-2C10      <\/td><td> 80<\/td><td> 19.14912<\/td><\/tr>\n",
       "\t<tr><td>EMB-145          <\/td><td> 55<\/td><td> 19.37023<\/td><\/tr>\n",
       "\t<tr><td>EMB-145XR        <\/td><td> 55<\/td><td> 19.41017<\/td><\/tr>\n",
       "\t<tr><td>A340-313         <\/td><td>375<\/td><td> 19.70588<\/td><\/tr>\n",
       "\t<tr><td>172M             <\/td><td>  4<\/td><td> 19.77778<\/td><\/tr>\n",
       "\t<tr><td>737-7BD          <\/td><td>149<\/td><td> 20.47523<\/td><\/tr>\n",
       "\t<tr><td>A-1B             <\/td><td>  2<\/td><td> 20.61111<\/td><\/tr>\n",
       "\t<tr><td>VANS AIRCRAFT RV6<\/td><td>  2<\/td><td> 20.66102<\/td><\/tr>\n",
       "\t<tr><td>EMB-145LR        <\/td><td> 55<\/td><td> 20.73853<\/td><\/tr>\n",
       "\t<tr><td>A319-112         <\/td><td>100<\/td><td> 22.31278<\/td><\/tr>\n",
       "\t<tr><td>PA-32RT-300      <\/td><td>  7<\/td><td> 22.72222<\/td><\/tr>\n",
       "\t<tr><td>767-201          <\/td><td>255<\/td><td> 23.00000<\/td><\/tr>\n",
       "\t<tr><td>737-76Q          <\/td><td>149<\/td><td> 24.26087<\/td><\/tr>\n",
       "\t<tr><td>230              <\/td><td> 11<\/td><td> 25.60870<\/td><\/tr>\n",
       "\t<tr><td>737-76N          <\/td><td>149<\/td><td> 26.11483<\/td><\/tr>\n",
       "\t<tr><td>767-432ER        <\/td><td>300<\/td><td> 26.90000<\/td><\/tr>\n",
       "\t<tr><td>A320-231         <\/td><td>182<\/td><td> 27.12500<\/td><\/tr>\n",
       "\t<tr><td>MD-90-30         <\/td><td>142<\/td><td> 27.46575<\/td><\/tr>\n",
       "\t<tr><td>737-990          <\/td><td>149<\/td><td> 31.94444<\/td><\/tr>\n",
       "\t<tr><td>A109E            <\/td><td>  8<\/td><td> 32.45161<\/td><\/tr>\n",
       "\t<tr><td>737-3TO          <\/td><td>149<\/td><td> 35.66667<\/td><\/tr>\n",
       "\t<tr><td>A319-115         <\/td><td>147<\/td><td> 42.59574<\/td><\/tr>\n",
       "\t<tr><td>G-IV             <\/td><td> 22<\/td><td> 46.33333<\/td><\/tr>\n",
       "\t<tr><td>777-224          <\/td><td>400<\/td><td> 50.25000<\/td><\/tr>\n",
       "\t<tr><td>A330-223         <\/td><td>379<\/td><td> 63.25000<\/td><\/tr>\n",
       "\t<tr><td>757-351          <\/td><td>275<\/td><td> 82.75000<\/td><\/tr>\n",
       "\t<tr><td>747-451          <\/td><td>450<\/td><td>132.00000<\/td><\/tr>\n",
       "<\/tbody>\n",
       "<\/table>\n"
      ]
     },
     "metadata":{
      
     },
     "output_type":"display_data"
    }
   ],
   "metadata":{
    "datalore":{
     "node_id":"YFj1TBxKYr2015I9SZHPZm",
     "type":"CODE",
     "hide_input_from_viewers":false,
     "hide_output_from_viewers":false
    }
   }
  },
  {
   "cell_type":"markdown",
   "source":[
    "# Q5: Does wind speed affect the delay of departure?"
   ],
   "attachments":{
    
   },
   "metadata":{
    "datalore":{
     "node_id":"xfAe4zuVfxGdMhA3Tb1igX",
     "type":"MD",
     "hide_input_from_viewers":false,
     "hide_output_from_viewers":false
    }
   }
  },
  {
   "cell_type":"markdown",
   "source":[
    "In the similar case, rough wind might cause delay of departure."
   ],
   "attachments":{
    
   },
   "metadata":{
    "datalore":{
     "node_id":"35V2Wa6lOXUpllZMOvoU9Q",
     "type":"MD",
     "hide_input_from_viewers":false,
     "hide_output_from_viewers":false
    }
   }
  },
  {
   "cell_type":"code",
   "source":[
    "flights %>%\n",
    "    drop_na(dep_delay) %>%\n",
    "    left_join(weather, by = c('origin','time_hour'))%>%\n",
    "    select(wind_speed,dep_delay) %>%\n",
    "    arrange(dep_delay)\n",
    "    "
   ],
   "execution_count":163,
   "outputs":[
    {
     "data":{
      "text\/html":[
       "<table class=\"dataframe\">\n",
       "<caption>A tibble: 328521 × 2<\/caption>\n",
       "<thead>\n",
       "\t<tr><th scope=col>wind_speed<\/th><th scope=col>dep_delay<\/th><\/tr>\n",
       "\t<tr><th scope=col>&lt;dbl&gt;<\/th><th scope=col>&lt;dbl&gt;<\/th><\/tr>\n",
       "<\/thead>\n",
       "<tbody>\n",
       "\t<tr><td> 9.20624<\/td><td>-43<\/td><\/tr>\n",
       "\t<tr><td> 9.20624<\/td><td>-33<\/td><\/tr>\n",
       "\t<tr><td>25.31716<\/td><td>-32<\/td><\/tr>\n",
       "\t<tr><td> 6.90468<\/td><td>-30<\/td><\/tr>\n",
       "\t<tr><td>11.50780<\/td><td>-27<\/td><\/tr>\n",
       "\t<tr><td>11.50780<\/td><td>-26<\/td><\/tr>\n",
       "\t<tr><td>12.65858<\/td><td>-25<\/td><\/tr>\n",
       "\t<tr><td> 4.60312<\/td><td>-25<\/td><\/tr>\n",
       "\t<tr><td> 9.20624<\/td><td>-24<\/td><\/tr>\n",
       "\t<tr><td>14.96014<\/td><td>-24<\/td><\/tr>\n",
       "\t<tr><td> 9.20624<\/td><td>-24<\/td><\/tr>\n",
       "\t<tr><td> 8.05546<\/td><td>-24<\/td><\/tr>\n",
       "\t<tr><td> 5.75390<\/td><td>-23<\/td><\/tr>\n",
       "\t<tr><td>17.26170<\/td><td>-23<\/td><\/tr>\n",
       "\t<tr><td> 6.90468<\/td><td>-23<\/td><\/tr>\n",
       "\t<tr><td> 6.90468<\/td><td>-23<\/td><\/tr>\n",
       "\t<tr><td> 5.75390<\/td><td>-23<\/td><\/tr>\n",
       "\t<tr><td>11.50780<\/td><td>-23<\/td><\/tr>\n",
       "\t<tr><td> 4.60312<\/td><td>-22<\/td><\/tr>\n",
       "\t<tr><td>12.65858<\/td><td>-22<\/td><\/tr>\n",
       "\t<tr><td> 3.45234<\/td><td>-22<\/td><\/tr>\n",
       "\t<tr><td>11.50780<\/td><td>-22<\/td><\/tr>\n",
       "\t<tr><td>17.26170<\/td><td>-22<\/td><\/tr>\n",
       "\t<tr><td> 4.60312<\/td><td>-22<\/td><\/tr>\n",
       "\t<tr><td> 9.20624<\/td><td>-22<\/td><\/tr>\n",
       "\t<tr><td>10.35702<\/td><td>-22<\/td><\/tr>\n",
       "\t<tr><td>11.50780<\/td><td>-22<\/td><\/tr>\n",
       "\t<tr><td> 9.20624<\/td><td>-22<\/td><\/tr>\n",
       "\t<tr><td> 3.45234<\/td><td>-22<\/td><\/tr>\n",
       "\t<tr><td> 9.20624<\/td><td>-21<\/td><\/tr>\n",
       "\t<tr><td>⋮<\/td><td>⋮<\/td><\/tr>\n",
       "\t<tr><td> 4.60312<\/td><td> 702<\/td><\/tr>\n",
       "\t<tr><td>14.96014<\/td><td> 747<\/td><\/tr>\n",
       "\t<tr><td>17.26170<\/td><td> 753<\/td><\/tr>\n",
       "\t<tr><td>25.31716<\/td><td> 761<\/td><\/tr>\n",
       "\t<tr><td> 9.20624<\/td><td> 786<\/td><\/tr>\n",
       "\t<tr><td>10.35702<\/td><td> 787<\/td><\/tr>\n",
       "\t<tr><td>16.11092<\/td><td> 788<\/td><\/tr>\n",
       "\t<tr><td>17.26170<\/td><td> 790<\/td><\/tr>\n",
       "\t<tr><td>25.31716<\/td><td> 797<\/td><\/tr>\n",
       "\t<tr><td>16.11092<\/td><td> 798<\/td><\/tr>\n",
       "\t<tr><td>18.41248<\/td><td> 800<\/td><\/tr>\n",
       "\t<tr><td>10.35702<\/td><td> 803<\/td><\/tr>\n",
       "\t<tr><td>17.26170<\/td><td> 812<\/td><\/tr>\n",
       "\t<tr><td>20.71404<\/td><td> 825<\/td><\/tr>\n",
       "\t<tr><td>16.11092<\/td><td> 845<\/td><\/tr>\n",
       "\t<tr><td> 5.75390<\/td><td> 849<\/td><\/tr>\n",
       "\t<tr><td>14.96014<\/td><td> 853<\/td><\/tr>\n",
       "\t<tr><td> 8.05546<\/td><td> 853<\/td><\/tr>\n",
       "\t<tr><td>12.65858<\/td><td> 853<\/td><\/tr>\n",
       "\t<tr><td> 5.75390<\/td><td> 878<\/td><\/tr>\n",
       "\t<tr><td> 8.05546<\/td><td> 896<\/td><\/tr>\n",
       "\t<tr><td>10.35702<\/td><td> 898<\/td><\/tr>\n",
       "\t<tr><td>12.65858<\/td><td> 899<\/td><\/tr>\n",
       "\t<tr><td>10.35702<\/td><td> 911<\/td><\/tr>\n",
       "\t<tr><td>31.07106<\/td><td> 960<\/td><\/tr>\n",
       "\t<tr><td>10.35702<\/td><td>1005<\/td><\/tr>\n",
       "\t<tr><td>10.35702<\/td><td>1014<\/td><\/tr>\n",
       "\t<tr><td> 8.05546<\/td><td>1126<\/td><\/tr>\n",
       "\t<tr><td> 8.05546<\/td><td>1137<\/td><\/tr>\n",
       "\t<tr><td> 4.60312<\/td><td>1301<\/td><\/tr>\n",
       "<\/tbody>\n",
       "<\/table>\n"
      ]
     },
     "metadata":{
      
     },
     "output_type":"display_data"
    }
   ],
   "metadata":{
    "datalore":{
     "node_id":"lF4kZzExMOXBrPOhmpa8GC",
     "type":"CODE",
     "hide_input_from_viewers":false,
     "hide_output_from_viewers":false
    }
   }
  },
  {
   "cell_type":"code",
   "source":[
    
   ],
   "execution_count":null,
   "outputs":[
    
   ],
   "metadata":{
    "datalore":{
     "node_id":"JegqPGFqLczzGjLUQHAhid",
     "type":"CODE",
     "hide_input_from_viewers":false,
     "hide_output_from_viewers":false
    }
   }
  }
 ],
 "metadata":{
  "kernelspec":{
   "display_name":"R",
   "language":"r",
   "name":"ir"
  },
  "datalore":{
   "version":1,
   "computation_mode":"JUPYTER",
   "package_manager":"conda",
   "base_environment":"minimal",
   "packages":[
    
   ]
  }
 },
 "nbformat":4,
 "nbformat_minor":4
}